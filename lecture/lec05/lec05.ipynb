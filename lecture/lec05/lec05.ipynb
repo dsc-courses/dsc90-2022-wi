{
 "cells": [
  {
   "cell_type": "markdown",
   "id": "1de3476c",
   "metadata": {},
   "source": [
    "# Lecture 5  – Probability\n",
    "\n",
    "## History of Data Science, Winter 2022"
   ]
  },
  {
   "cell_type": "code",
   "execution_count": null,
   "id": "8e5edf1f",
   "metadata": {},
   "outputs": [],
   "source": [
    "import numpy as np\n",
    "from scipy.special import comb\n",
    "import matplotlib.pyplot as plt"
   ]
  },
  {
   "cell_type": "markdown",
   "id": "e29336d4",
   "metadata": {},
   "source": [
    "## The Problem of Points"
   ]
  },
  {
   "cell_type": "markdown",
   "id": "bd5b8f4d",
   "metadata": {},
   "source": [
    "Let's define a function, `prob_a_wins`, that takes in the number of points both players need to win the game and returns the probability that Player A wins."
   ]
  },
  {
   "cell_type": "code",
   "execution_count": null,
   "id": "c3c25e7a",
   "metadata": {},
   "outputs": [],
   "source": [
    "def prob_a_wins(a_left, b_left):\n",
    "    '''Returns the probability (according to Fermat and Pascal's method) that \n",
    "       Player A wins the game, given:\n",
    "       - the number of points Player A needs to win the game (a_left), and\n",
    "       - the number of points Player B needs to win the game (b_left)\n",
    "    '''\n",
    "    max_turns = a_left + b_left - 1\n",
    "    return np.sum([comb(max_turns, k) for k in np.arange(a_left, max_turns + 1)]) / (2 ** (max_turns))"
   ]
  },
  {
   "cell_type": "code",
   "execution_count": null,
   "id": "5e4161b0",
   "metadata": {},
   "outputs": [],
   "source": [
    "prob_a_wins(2, 3)"
   ]
  },
  {
   "cell_type": "markdown",
   "id": "b1289ea1",
   "metadata": {},
   "source": [
    "Let's also define a function `stop_game` that takes in the target score and the number of points both players have so far and returns the probability that Player A wins. This will call our original `prob_a_wins` function."
   ]
  },
  {
   "cell_type": "code",
   "execution_count": null,
   "id": "286c7b48",
   "metadata": {},
   "outputs": [],
   "source": [
    "def stop_game(target_score, a_score, b_score):\n",
    "    '''Returns the probability (according to Fermat and Pascal's method) that \n",
    "       Player A wins the game, given: \n",
    "       - a target score (target_score),\n",
    "       - the number of points that Player A currently has (a_score), and\n",
    "       - the number of points that Player B currently has (b_score)\n",
    "    '''\n",
    "    a_left = target_score - a_score\n",
    "    b_left = target_score - b_score\n",
    "    return prob_a_wins(a_left, b_left)"
   ]
  },
  {
   "cell_type": "code",
   "execution_count": null,
   "id": "075c4100",
   "metadata": {
    "scrolled": true
   },
   "outputs": [],
   "source": [
    "stop_game(10, 8, 7)"
   ]
  },
  {
   "cell_type": "code",
   "execution_count": null,
   "id": "8dd66060",
   "metadata": {},
   "outputs": [],
   "source": [
    "stop_game(1000, 1000 - 2, 1000 - 3)"
   ]
  },
  {
   "cell_type": "markdown",
   "id": "693c6a34",
   "metadata": {},
   "source": [
    "Great! But... you might not be convinced. In particular, the idea of playing more rounds even after someone may have already won may be counterintuitive.\n",
    "\n",
    "Let's simulate to remove any doubts!\n",
    "\n",
    "First, let's write a function to simulate what would happen if we played a single interrupted game until completion. Specifically, it takes in a target score and the scores of both players so far, and it plays one turn at a time until one player wins. It returns `True` if Player A wins."
   ]
  },
  {
   "cell_type": "code",
   "execution_count": null,
   "id": "27e56d5d",
   "metadata": {},
   "outputs": [],
   "source": [
    "def simulate_one_game(target_score, a_score, b_score):\n",
    "    '''Simulates the remainder of a single game that has stopped, given:\n",
    "       - a target score (target_score),\n",
    "       - the number of points that Player A currently has (a_score), and\n",
    "       - the number of points that Player B currently has (b_score)\n",
    "       \n",
    "       Returns True if Player A wins and False if Player B wins.\n",
    "    '''\n",
    "    outstr = ''\n",
    "    while (target_score > a_score) and (target_score > b_score):\n",
    "        flip = np.random.choice(['A', 'B'])\n",
    "        if flip == 'A':\n",
    "            a_score += 1\n",
    "        else:\n",
    "            b_score += 1\n",
    "            \n",
    "    return target_score == a_score"
   ]
  },
  {
   "cell_type": "code",
   "execution_count": null,
   "id": "5b425f72",
   "metadata": {},
   "outputs": [],
   "source": [
    "simulate_one_game(10, 8, 7)"
   ]
  },
  {
   "cell_type": "markdown",
   "id": "79a4c2e3",
   "metadata": {},
   "source": [
    "Now, let's simulate many, many games and look at the proportion of them that Player A wins."
   ]
  },
  {
   "cell_type": "code",
   "execution_count": null,
   "id": "d817896a",
   "metadata": {},
   "outputs": [],
   "source": [
    "def simulate_many(target_score, a_score, b_score, reps=10000):\n",
    "    '''Repeatedly calls simulate_one_game on the same arguments\n",
    "       and returns the proportion of simulated games that were won by\n",
    "       Player A.\n",
    "    '''\n",
    "    wins = 0\n",
    "    \n",
    "    for i in np.arange(reps):\n",
    "        wins += simulate_one_game(target_score, a_score, b_score)\n",
    "        \n",
    "    return wins / reps"
   ]
  },
  {
   "cell_type": "code",
   "execution_count": null,
   "id": "0917b438",
   "metadata": {},
   "outputs": [],
   "source": [
    "simulate_many(10, 8, 7)"
   ]
  },
  {
   "cell_type": "code",
   "execution_count": null,
   "id": "5887dc7a",
   "metadata": {},
   "outputs": [],
   "source": [
    "simulate_many(1000, 1000 - 2, 1000 - 3)"
   ]
  },
  {
   "cell_type": "markdown",
   "id": "5a4ecbce",
   "metadata": {},
   "source": [
    "Our simulated probabilities, given by `simulate_many`, appear to be similar to our theoretical probabilities, given by `stop_game`."
   ]
  }
 ],
 "metadata": {
  "kernelspec": {
   "display_name": "Python 3 (ipykernel)",
   "language": "python",
   "name": "python3"
  },
  "language_info": {
   "codemirror_mode": {
    "name": "ipython",
    "version": 3
   },
   "file_extension": ".py",
   "mimetype": "text/x-python",
   "name": "python",
   "nbconvert_exporter": "python",
   "pygments_lexer": "ipython3",
   "version": "3.9.7"
  }
 },
 "nbformat": 4,
 "nbformat_minor": 5
}

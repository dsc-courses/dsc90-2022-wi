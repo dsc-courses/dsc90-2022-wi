{
 "cells": [
  {
   "cell_type": "markdown",
   "id": "82c7adfb",
   "metadata": {},
   "source": [
    "# Lecture 3 – Aggregation, Least Squares, and Regression\n",
    "\n",
    "## DSC 10, Winter 2022"
   ]
  },
  {
   "cell_type": "code",
   "execution_count": null,
   "id": "3ecd8046",
   "metadata": {},
   "outputs": [],
   "source": [
    "import numpy as np\n",
    "import pandas as pd"
   ]
  },
  {
   "cell_type": "markdown",
   "id": "d9c49ba4",
   "metadata": {},
   "source": [
    "## Verifying Tycho Brahe's calculation of means\n",
    "\n",
    "The units to be aware of:\n",
    "\n",
    "- 1º (1 degree) = 4 minutes (because 15º = 1 hour and 360º = 24 hours)\n",
    "- 1' (1 arcminute) = 1/60th of a degree\n",
    "- 1\" (1 arcsecond) = 1/3600th of a degree"
   ]
  },
  {
   "cell_type": "markdown",
   "id": "9881945a",
   "metadata": {},
   "source": [
    "Let's start by writing a function that takes a time measurement in degrees, arcminutes, and arcseconds into regular time minutes."
   ]
  },
  {
   "cell_type": "code",
   "execution_count": null,
   "id": "93d78b7b",
   "metadata": {},
   "outputs": [],
   "source": [
    "def time_minutes(deg, arcmin, arcsec):\n",
    "    total_deg = deg + arcmin / 60 + arcsec / (60 ** 2)\n",
    "    \n",
    "    # Each degree is 4 minutes\n",
    "    return total_deg * 4"
   ]
  },
  {
   "cell_type": "markdown",
   "id": "5a8204d3",
   "metadata": {},
   "source": [
    "Let's try it out."
   ]
  },
  {
   "cell_type": "code",
   "execution_count": null,
   "id": "126f0d75",
   "metadata": {},
   "outputs": [],
   "source": [
    "time_minutes(82, 15, 10)"
   ]
  },
  {
   "cell_type": "code",
   "execution_count": null,
   "id": "fcc9c3de",
   "metadata": {},
   "outputs": [],
   "source": [
    "d1 = time_minutes(26, 4, 16)\n",
    "d1"
   ]
  },
  {
   "cell_type": "code",
   "execution_count": null,
   "id": "484f24fd",
   "metadata": {},
   "outputs": [],
   "source": [
    "d2 = time_minutes(25, 56, 23)\n",
    "d2"
   ]
  },
  {
   "cell_type": "markdown",
   "id": "7a081364",
   "metadata": {},
   "source": [
    "Now, we've converted both 26º 4' 16\" and 25º 56' 23\" to regular minutes. We can find the mean number of minutes between `d1` and `d2`:"
   ]
  },
  {
   "cell_type": "code",
   "execution_count": null,
   "id": "73586341",
   "metadata": {
    "scrolled": true
   },
   "outputs": [],
   "source": [
    "(d1 + d2) / 2"
   ]
  },
  {
   "cell_type": "markdown",
   "id": "bc9e10ae",
   "metadata": {},
   "source": [
    "Tycho Brahe reported that the mean of 26º 4' 16\" and 25º 56' 23\" is 26º 0' 20\"; we can verify this ourselves:"
   ]
  },
  {
   "cell_type": "code",
   "execution_count": null,
   "id": "2b399b08",
   "metadata": {},
   "outputs": [],
   "source": [
    "time_minutes(26, 0, 20)"
   ]
  },
  {
   "cell_type": "markdown",
   "id": "07aadc48",
   "metadata": {},
   "source": [
    "However, we don't yet have a way of computing a value in degrees-arcminutes-arcseconds, given a value in regular time-minutes. In other words, we don't have the **inverse** of the function `time_minutes`. Let's define such a function below."
   ]
  },
  {
   "cell_type": "code",
   "execution_count": null,
   "id": "ce73035c",
   "metadata": {},
   "outputs": [],
   "source": [
    "def arc_degree(time_minutes):\n",
    "    # 1 degree = 4 minutes, let's think in terms of degrees\n",
    "    total_deg = time_minutes / 4\n",
    "    \n",
    "    # First, round DOWN\n",
    "    deg = np.floor(total_deg)\n",
    "    \n",
    "    # Compute the part left over – we need to describe this in arcminutes and arcseconds\n",
    "    leftover = total_deg - deg\n",
    "    \n",
    "    # Each arcminute is 1/60th of a degree, so figure out the number of times 1/60 goes into the leftover\n",
    "    arcmin = leftover // (1 / 60)\n",
    "    \n",
    "    # Compute the part left over - we need to describe this in arcseconds\n",
    "    leftover = leftover - arcmin * (1 / 60)\n",
    "    \n",
    "    # Each arcsecond is equal to 1/3600th of a degree, so figure out the number of times 1/3600 goes into the leftover\n",
    "    arcsec = leftover // (1 / 3600)\n",
    "    \n",
    "    return (deg, arcmin, arcsec)"
   ]
  },
  {
   "cell_type": "markdown",
   "id": "9e1814ae",
   "metadata": {},
   "source": [
    "Let's try this out."
   ]
  },
  {
   "cell_type": "code",
   "execution_count": null,
   "id": "05e7e02b",
   "metadata": {},
   "outputs": [],
   "source": [
    "average_d = (d1 + d2) / 2\n",
    "arc_degree(average_d)"
   ]
  },
  {
   "cell_type": "markdown",
   "id": "b26a7ef0",
   "metadata": {},
   "source": [
    "Pretty close to what Brahe reported, which was 26º 0' 20\"! What's with the discrepancy?"
   ]
  },
  {
   "cell_type": "code",
   "execution_count": null,
   "id": "bcd0affc",
   "metadata": {},
   "outputs": [],
   "source": [
    "average_d"
   ]
  },
  {
   "cell_type": "code",
   "execution_count": null,
   "id": "ec6999f8",
   "metadata": {
    "scrolled": true
   },
   "outputs": [],
   "source": [
    "time_minutes(26, 0, 19)"
   ]
  },
  {
   "cell_type": "code",
   "execution_count": null,
   "id": "c7f01556",
   "metadata": {},
   "outputs": [],
   "source": [
    "time_minutes(26, 0, 20)"
   ]
  },
  {
   "cell_type": "markdown",
   "id": "6783de9c",
   "metadata": {},
   "source": [
    "Neither 26º 0' 19\" nor 26º 0' 20\" are exactly equal to the mean of 26º 4' 16\" and 25º 56' 23\"; the former is slightly smaller, and the latter is slightly larger. Both seem like acceptable answers."
   ]
  },
  {
   "cell_type": "markdown",
   "id": "ffa7ba27",
   "metadata": {},
   "source": [
    "The following is the table of Brahe's observations from lecture. We've collected just the far right column into the list `reported_results` below.\n",
    "\n",
    "<img src='data/brahe.png' width=250>"
   ]
  },
  {
   "cell_type": "code",
   "execution_count": null,
   "id": "088b1727",
   "metadata": {},
   "outputs": [],
   "source": [
    "reported_results = [\n",
    "    (26, 0, 44),\n",
    "    (26, 0, 32),\n",
    "    (26, 0, 30),\n",
    "    (26, 0, 20),\n",
    "    (26, 0, 38),\n",
    "    (26, 0, 18),\n",
    "    (26, 0, 32),\n",
    "    (26, 0, 42),\n",
    "    (26, 0, 37),\n",
    "    (26, 0, 27),\n",
    "    (26, 0, 29),\n",
    "    (26, 0, 14),\n",
    "    (26, 0, 4),\n",
    "    (26, 0, 28),\n",
    "    (26, 0, 39)\n",
    "]"
   ]
  },
  {
   "cell_type": "markdown",
   "id": "6e692b6f",
   "metadata": {},
   "source": [
    "Average of all 15 observations (i.e. the right-most column):"
   ]
  },
  {
   "cell_type": "code",
   "execution_count": null,
   "id": "3a75db28",
   "metadata": {},
   "outputs": [],
   "source": [
    "total_sum = 0\n",
    "for result in reported_results:\n",
    "    total_sum += time_minutes(*result)\n",
    "total_sum = total_sum / len(reported_results)\n",
    "arc_degree(total_sum)"
   ]
  },
  {
   "cell_type": "markdown",
   "id": "9f61b466",
   "metadata": {},
   "source": [
    "Average of only the 12 pairwise observations:"
   ]
  },
  {
   "cell_type": "code",
   "execution_count": null,
   "id": "5be2984e",
   "metadata": {},
   "outputs": [],
   "source": [
    "total_sum = 0\n",
    "for result in reported_results[2:]:\n",
    "    total_sum += time_minutes(*result)\n",
    "total_sum = total_sum / len(reported_results[2:])\n",
    "arc_degree(total_sum)"
   ]
  },
  {
   "cell_type": "markdown",
   "id": "4e428cf6",
   "metadata": {},
   "source": [
    "Brahe's final reported right ascension was 26º 0' 30\", which is not far off from these results."
   ]
  }
 ],
 "metadata": {
  "kernelspec": {
   "display_name": "Python 3 (ipykernel)",
   "language": "python",
   "name": "python3"
  },
  "language_info": {
   "codemirror_mode": {
    "name": "ipython",
    "version": 3
   },
   "file_extension": ".py",
   "mimetype": "text/x-python",
   "name": "python",
   "nbconvert_exporter": "python",
   "pygments_lexer": "ipython3",
   "version": "3.9.7"
  }
 },
 "nbformat": 4,
 "nbformat_minor": 5
}

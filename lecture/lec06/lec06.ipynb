{
 "cells": [
  {
   "cell_type": "markdown",
   "id": "8ae4aa82",
   "metadata": {},
   "source": [
    "# Lecture 6 – Visualization\n",
    "\n",
    "## History of Data Science, Winter 2022"
   ]
  },
  {
   "cell_type": "code",
   "execution_count": null,
   "id": "894fe449",
   "metadata": {},
   "outputs": [],
   "source": [
    "import pandas as pd\n",
    "import numpy as np\n",
    "\n",
    "import matplotlib.pyplot as plt\n",
    "plt.style.use('fivethirtyeight')"
   ]
  },
  {
   "cell_type": "markdown",
   "id": "63528380",
   "metadata": {},
   "source": [
    "## Playfair's bar chart of imports and exports from Scotland\n",
    "\n",
    "<img src='images/scotland.png' width=500>\n",
    "\n",
    "The kind folks who wrote [one of the readings](https://higherlogicdownload.s3.amazonaws.com/AMSTAT/1484431b-3202-461e-b7e6-ebce10ca8bcd/UploadedImages/Classroom_Activities/HS_3_Origins_of_graphs_in_statistics.pdf) have posted the dataset that Playfair used."
   ]
  },
  {
   "cell_type": "code",
   "execution_count": null,
   "id": "bb7baab0",
   "metadata": {},
   "outputs": [],
   "source": [
    "scotland = pd.read_csv('data/playfair-scotland.csv')\n",
    "scotland"
   ]
  },
  {
   "cell_type": "code",
   "execution_count": null,
   "id": "40e6c12e",
   "metadata": {},
   "outputs": [],
   "source": [
    "scotland.plot(kind='barh', x='country');"
   ]
  },
  {
   "cell_type": "markdown",
   "id": "fcd13b1e",
   "metadata": {},
   "source": [
    "It seems like Playfair's graph is sorted in some sort of order... but it's not sorted by imports or by exports."
   ]
  },
  {
   "cell_type": "code",
   "execution_count": null,
   "id": "2fd4c50c",
   "metadata": {},
   "outputs": [],
   "source": [
    "scotland.sort_values('imports', ascending=False).plot(kind='barh', x='country', figsize=(10, 5));"
   ]
  },
  {
   "cell_type": "markdown",
   "id": "bb9a7f04",
   "metadata": {},
   "source": [
    "Let's see how we can make an interactive version of this plot. The library `plotly` will come in handy here."
   ]
  },
  {
   "cell_type": "code",
   "execution_count": null,
   "id": "c5e39f2c",
   "metadata": {},
   "outputs": [],
   "source": [
    "import plotly.express as px"
   ]
  },
  {
   "cell_type": "code",
   "execution_count": null,
   "id": "bb9399a2",
   "metadata": {},
   "outputs": [],
   "source": [
    "fig = px.bar(scotland.sort_values('imports', ascending=False), \n",
    "             x=['exports', 'imports'], \n",
    "             y='country', \n",
    "             barmode='group', \n",
    "             orientation='h',\n",
    "             color_discrete_map={\n",
    "                 'exports': '#151EA6',\n",
    "                 'imports': '#FCB305',\n",
    "              },      \n",
    "             title='Exports and Imports of <b>Scotland</b> to and from different parts for one Year'\n",
    "            )\n",
    "\n",
    "fig.update_layout(\n",
    "    font_family=\"Arial\",\n",
    "    title_font_family=\"Arial\",\n",
    "    paper_bgcolor='#FFFFFF',\n",
    "    plot_bgcolor='#FFFFFF',\n",
    "    legend = {\n",
    "        'title': '',\n",
    "        'orientation': 'h'\n",
    "    }\n",
    ")\n",
    "\n",
    "fig.add_annotation( # add a text callout with arrow\n",
    "    text=\"no exports to Greenland!\", x=10000, y=\"Greenland\", ax=125,\n",
    "    arrowhead=2, showarrow=True\n",
    ")\n",
    "\n",
    "fig.update_xaxes(title_text='',\n",
    "                 side='top',\n",
    "                 showline=True, \n",
    "                 linewidth=2, \n",
    "                 linecolor='black',\n",
    "                 mirror=True,\n",
    "                 showgrid=True, \n",
    "                 gridwidth=1, \n",
    "                 gridcolor='#EEEEEE',\n",
    "                 tick0=0, \n",
    "                 dtick=25000,\n",
    "                 tickangle=0)\n",
    "\n",
    "fig.update_yaxes(title_text='',\n",
    "                 side='right',\n",
    "                 showline=True, \n",
    "                 linewidth=2, \n",
    "                 linecolor='black',\n",
    "                 mirror=True,\n",
    "                 showgrid=True, \n",
    "                 gridwidth=1, \n",
    "                 gridcolor='#EEEEEE',\n",
    "                 tickson='boundaries')"
   ]
  },
  {
   "cell_type": "markdown",
   "id": "9a68e27a",
   "metadata": {},
   "source": [
    "As an aside – what if we want to export this chart to HTML, to put on a website? (Say, for making a data science portfolio?)\n",
    "\n",
    "The `.to_html()` method will come in handy."
   ]
  },
  {
   "cell_type": "code",
   "execution_count": null,
   "id": "2a0d7808",
   "metadata": {},
   "outputs": [],
   "source": [
    "with open('scotland.html', 'w') as f:\n",
    "    f.write(fig.to_html())\n",
    "    f.close()"
   ]
  },
  {
   "cell_type": "markdown",
   "id": "6bfe8b50",
   "metadata": {},
   "source": [
    "## Playfair's wheat and wages chart"
   ]
  },
  {
   "cell_type": "code",
   "execution_count": null,
   "id": "deccb492",
   "metadata": {},
   "outputs": [],
   "source": [
    "wheat = pd.read_csv('data/wheat/Wheat.csv').drop(columns=['Unnamed: 0']).iloc[:-1]\n",
    "wheat.head()"
   ]
  },
  {
   "cell_type": "markdown",
   "id": "0bab2e0a",
   "metadata": {},
   "source": [
    "This task is a bit different, since it involves two different types of visualizations – a line chart and a bar chart."
   ]
  },
  {
   "cell_type": "code",
   "execution_count": null,
   "id": "445be555",
   "metadata": {},
   "outputs": [],
   "source": [
    "px.line(wheat, x='Year', y='Wages')"
   ]
  },
  {
   "cell_type": "code",
   "execution_count": null,
   "id": "6de3077e",
   "metadata": {},
   "outputs": [],
   "source": [
    "px.bar(wheat, x='Year', y='Wages')"
   ]
  },
  {
   "cell_type": "markdown",
   "id": "f2cf965e",
   "metadata": {},
   "source": [
    "Instead of using `plotly.express`, which is a \"lite\" version of `plotly`, we will use `plotly`'s `graph_objects` module."
   ]
  },
  {
   "cell_type": "code",
   "execution_count": null,
   "id": "29eab610",
   "metadata": {},
   "outputs": [],
   "source": [
    "import plotly.graph_objects as go"
   ]
  },
  {
   "cell_type": "code",
   "execution_count": null,
   "id": "e292f123",
   "metadata": {},
   "outputs": [],
   "source": [
    "wheat_fig = go.Figure()\n",
    "\n",
    "# Add bar chart\n",
    "wheat_fig.add_trace(\n",
    "    go.Bar(\n",
    "        x=wheat['Year'],\n",
    "        y=wheat['Wheat'],\n",
    "        name='Wheat',\n",
    "        marker={'color': '#AAAAAA'},\n",
    "        width=5\n",
    "    )\n",
    ")\n",
    "\n",
    "# Add line chart\n",
    "wheat_fig.add_trace(\n",
    "    go.Scatter(\n",
    "        x=wheat['Year'],\n",
    "        y=wheat['Wages'],\n",
    "        name='Wages',\n",
    "        marker={'color': 'red'},\n",
    "        fill='tozeroy',\n",
    "        fillcolor='rgba(135,206,235,0.65)'\n",
    "    )\n",
    ")\n",
    "\n",
    "# Adjust overall attributes\n",
    "wheat_fig.update_layout(\n",
    "    font_family=\"Arial\",\n",
    "    title_font_family=\"Arial\",\n",
    "    paper_bgcolor='#FFFFFF',\n",
    "    plot_bgcolor='#FFFFFF',\n",
    "    showlegend=False\n",
    ")\n",
    "\n",
    "# Adjust x-axis\n",
    "wheat_fig.update_xaxes(title_text='<i>5 Years each division</i>', \n",
    "                       tickmode='array',\n",
    "                       tickvals=[1565, 1600, 1650, 1700, 1750, 1800, 1820], \n",
    "                       tickangle=0,\n",
    "                       showgrid=False,\n",
    "                       showline=True, \n",
    "                       linewidth=2, \n",
    "                       linecolor='black',\n",
    "                       mirror=True)\n",
    "\n",
    "# Adjust y-axis\n",
    "wheat_fig.update_yaxes(title_text='<i>Price of the Quarter of Wheat in Shillings</i>',\n",
    "                       side='right',\n",
    "                       tick0=0, \n",
    "                       dtick=5, \n",
    "                       gridcolor='#EEEEEE',\n",
    "                       gridwidth=1,\n",
    "                       showline=True, \n",
    "                       linewidth=2, \n",
    "                       linecolor='black',\n",
    "                       mirror=True)\n",
    "\n",
    "# Add annotations\n",
    "wheat_fig.add_annotation( # add a text callout with arrow\n",
    "    text=\"<i>Weekly Wages of a Good Mechanic</i>\", \n",
    "    x=1640, \n",
    "    y=9, \n",
    "    showarrow=False, \n",
    "    font = {\n",
    "        'size': 10,\n",
    "        'color': 'white'\n",
    "    }\n",
    "    \n",
    ")\n",
    "\n",
    "# Add annotations\n",
    "title_text = 'CHART,<br><i>Showing at One View</i><br><i>The Price of The Quarter of Wheat</i><br>& Wages of Labour by the Week,<br>-- from --<br><i>The Year 1565 to 1821</i><br>-- by --<br><i>William Playfair</i>'\n",
    "\n",
    "wheat_fig.add_annotation(\n",
    "    text=title_text, \n",
    "    x=1640, \n",
    "    y=70, \n",
    "    font = {\n",
    "        'size': 10,\n",
    "        'color': 'black'\n",
    "    },\n",
    "    bordercolor=\"black\",\n",
    "    borderwidth=2,\n",
    "    borderpad=4,\n",
    "    bgcolor=\"#FFFFFF\",\n",
    "    opacity=1\n",
    "    \n",
    ")\n",
    "\n",
    "wheat_fig.add_annotation(\n",
    "    text=\"<i>Weekly Wages of a Good Mechanic</i>\", \n",
    "    x=1640, \n",
    "    y=9, \n",
    "    showarrow=False, \n",
    "    font = {\n",
    "        'size': 10,\n",
    "        'color': 'black'\n",
    "    }\n",
    "    \n",
    ")"
   ]
  },
  {
   "cell_type": "markdown",
   "id": "04958106",
   "metadata": {},
   "source": [
    "## Pie charts"
   ]
  },
  {
   "cell_type": "code",
   "execution_count": null,
   "id": "3f60c586",
   "metadata": {},
   "outputs": [],
   "source": [
    "dist = pd.DataFrame().assign(\n",
    "    continent=['African', 'European', 'Asiatic'],\n",
    "    proportion=[0.2, 0.25, 0.55]\n",
    ")\n",
    "\n",
    "dist"
   ]
  },
  {
   "cell_type": "code",
   "execution_count": null,
   "id": "177827a0",
   "metadata": {},
   "outputs": [],
   "source": [
    "px.pie(dist,\n",
    "       values='proportion',\n",
    "       names='continent',\n",
    "       width=400,\n",
    "       height=300)"
   ]
  },
  {
   "cell_type": "markdown",
   "id": "a992e9ee",
   "metadata": {},
   "source": [
    "## Gantt charts (i.e. timelines)"
   ]
  },
  {
   "cell_type": "code",
   "execution_count": null,
   "id": "8b61d2ee",
   "metadata": {},
   "outputs": [],
   "source": [
    "phases = [\n",
    " ['Newborn', '1998-11-26', '1999-11-26', 'Canada'],\n",
    " ['Toddler, Preschooler', '1999-11-26', '2005-09-03', 'US'],\n",
    " ['Elementary School Student', '2005-09-03', '2009-06-30', 'Canada'],\n",
    " ['Middle School Student', '2009-09-15', '2012-06-15', 'Canada'],\n",
    " ['High School Student', '2012-09-05', '2016-05-30', 'Canada'],\n",
    " ['Undergrad @ UC Berkeley', '2016-08-22','2020-05-15', 'US'],\n",
    " ['Masters @ UC Berkeley', '2020-08-25', '2021-05-14', 'Canada'],\n",
    " ['Lecturer @ UCSD', '2021-09-01', '2022-02-14', 'US']]\n",
    "\n",
    "phases_df = pd.DataFrame().append(phases)\n",
    "phases_df.columns=['Phase', 'Start', 'End', 'Location']\n",
    "phases_df"
   ]
  },
  {
   "cell_type": "code",
   "execution_count": null,
   "id": "345b67cf",
   "metadata": {},
   "outputs": [],
   "source": [
    "tim = px.timeline(phases_df,\n",
    "                  x_start = 'Start',\n",
    "                  x_end = 'End',\n",
    "                  y = 'Phase',\n",
    "                  text = 'Location',\n",
    "                  title = 'My Life Trajectory',\n",
    "                  width=700,\n",
    "                  height=400)\n",
    "\n",
    "tim.update_yaxes(autorange='reversed')"
   ]
  },
  {
   "cell_type": "markdown",
   "id": "6795d83f",
   "metadata": {},
   "source": [
    "## Box plots"
   ]
  },
  {
   "cell_type": "code",
   "execution_count": null,
   "id": "47b1673b",
   "metadata": {},
   "outputs": [],
   "source": [
    "world = px.data.gapminder()\n",
    "world_2007 = world[world['year'] == 2007]\n",
    "world_2007"
   ]
  },
  {
   "cell_type": "code",
   "execution_count": null,
   "id": "0a9ea193",
   "metadata": {},
   "outputs": [],
   "source": [
    "px.box(world_2007,\n",
    "       y = 'lifeExp',\n",
    "       x = 'continent',\n",
    "       color = 'continent',\n",
    "       hover_name = 'country',\n",
    "       title = 'Distribution of Life Expectancy in 2007 by Continent'\n",
    "      )"
   ]
  }
 ],
 "metadata": {
  "kernelspec": {
   "display_name": "Python 3 (ipykernel)",
   "language": "python",
   "name": "python3"
  },
  "language_info": {
   "codemirror_mode": {
    "name": "ipython",
    "version": 3
   },
   "file_extension": ".py",
   "mimetype": "text/x-python",
   "name": "python",
   "nbconvert_exporter": "python",
   "pygments_lexer": "ipython3",
   "version": "3.9.7"
  }
 },
 "nbformat": 4,
 "nbformat_minor": 5
}

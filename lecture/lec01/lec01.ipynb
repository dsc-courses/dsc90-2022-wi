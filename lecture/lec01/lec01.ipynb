{
 "cells": [
  {
   "cell_type": "markdown",
   "id": "39a2ff0f",
   "metadata": {},
   "source": [
    "# Lecture 1 – Introduction, Calculus\n",
    "\n",
    "## History of Data Science, Winter 2022"
   ]
  },
  {
   "cell_type": "code",
   "execution_count": null,
   "id": "b34ae384",
   "metadata": {},
   "outputs": [],
   "source": [
    "import numpy as np\n",
    "import matplotlib.pyplot as plt\n",
    "from ipywidgets import interactive"
   ]
  },
  {
   "cell_type": "markdown",
   "id": "523f0d21",
   "metadata": {},
   "source": [
    "Before getting started, let's visualize what exactly regular $n$-sided polygons look like. (A good exercise is to determine how exactly the plotting code works!)"
   ]
  },
  {
   "cell_type": "code",
   "execution_count": null,
   "id": "54883b5f",
   "metadata": {},
   "outputs": [],
   "source": [
    "def plot_n_gon(n):\n",
    "    xs = []\n",
    "    ys = []\n",
    "    theta = 2 * np.pi / n\n",
    "    for i in range(n+1):\n",
    "        xs.append(0 + np.cos(theta * i))\n",
    "        ys.append(0 + np.sin(theta * i))\n",
    "        \n",
    "    print(f'Regular {n}-sided polygon')\n",
    "\n",
    "    plt.figure(figsize=(7, 7))\n",
    "    plt.xlim(-1.25, 1.25)\n",
    "    plt.ylim(-1.25, 1.25)\n",
    "    plt.axis('off')\n",
    "    plt.plot(xs, ys)\n",
    "    plt.show()"
   ]
  },
  {
   "cell_type": "markdown",
   "id": "40760185",
   "metadata": {},
   "source": [
    "Run the following cell. You should see a slider. (If it creates many redundant plots, you can delete the code inside and instead the function `plot_n_gon` repeatedly with different arguments.) "
   ]
  },
  {
   "cell_type": "code",
   "execution_count": null,
   "id": "dc433012",
   "metadata": {},
   "outputs": [],
   "source": [
    "interactive(plot_n_gon, n=(3, 96, 3))"
   ]
  },
  {
   "cell_type": "markdown",
   "id": "1c0f5130",
   "metadata": {},
   "source": [
    "## Using the method of exhaustion to estimate $\\pi$\n",
    "\n",
    "On paper, we found a relationship between the side length of a regular $n$-sided figure, $s_1$, and a regular $2n$-sided figure, $s_2$, both of which are inscribed in a circle with radius of 1.\n",
    "\n",
    "(To start, $n = 6$ since we're using a hexagon, and $s_1 = 1$.)"
   ]
  },
  {
   "cell_type": "code",
   "execution_count": null,
   "id": "82a088f8",
   "metadata": {},
   "outputs": [],
   "source": [
    "def next_sidelength(s):\n",
    "    '''Computes the sidelength of a regular 2n-sided polygon inscribed in a circle,\n",
    "       given the sidelength of a regular n-sided polygon inscribed in that circle\n",
    "    '''\n",
    "    a = (1 - (s / 2)**2)**0.5\n",
    "    new_s_squared = (s / 2)**2 + (1 - a)**2\n",
    "    return new_s_squared**0.5"
   ]
  },
  {
   "cell_type": "code",
   "execution_count": null,
   "id": "b19248a4",
   "metadata": {},
   "outputs": [],
   "source": [
    "def pi_estimate(s, n):\n",
    "    '''Computes an estimate of pi by dividing the perimeter of an inscribed n-sided polygon by\n",
    "       the diameter of the circle it is inscribed in (2).\n",
    "    '''\n",
    "    return s * n / 2"
   ]
  },
  {
   "cell_type": "markdown",
   "id": "afdd2e1f",
   "metadata": {},
   "source": [
    "Let's do some calculations."
   ]
  },
  {
   "cell_type": "code",
   "execution_count": null,
   "id": "04e66837",
   "metadata": {
    "scrolled": false
   },
   "outputs": [],
   "source": [
    "s = 1\n",
    "n = 6\n",
    "\n",
    "sidelengths = np.array([])\n",
    "numbersides = np.array([])\n",
    "estimates = np.array([])\n",
    "\n",
    "for _ in range(20):\n",
    "    # Print the current estimate\n",
    "    print(f'An estimate of pi using a {n}-sided polygon:', pi_estimate(s, n))\n",
    "    \n",
    "    # Update s and n\n",
    "    s = next_sidelength(s)\n",
    "    n *= 2"
   ]
  },
  {
   "cell_type": "markdown",
   "id": "ae6cfcd1",
   "metadata": {},
   "source": [
    "Archimedes stopped at a 96-sided polygon – but using the power of modern computing, we can do more!\n",
    "\n",
    "Credits for the idea go to [this video](https://www.youtube.com/watch?v=_rJdkhlWZVQ) – they perform the same calculation using an Excel spreadsheet."
   ]
  }
 ],
 "metadata": {
  "kernelspec": {
   "display_name": "Python 3 (ipykernel)",
   "language": "python",
   "name": "python3"
  },
  "language_info": {
   "codemirror_mode": {
    "name": "ipython",
    "version": 3
   },
   "file_extension": ".py",
   "mimetype": "text/x-python",
   "name": "python",
   "nbconvert_exporter": "python",
   "pygments_lexer": "ipython3",
   "version": "3.9.7"
  }
 },
 "nbformat": 4,
 "nbformat_minor": 5
}

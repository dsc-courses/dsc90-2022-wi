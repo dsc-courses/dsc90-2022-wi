{
 "cells": [
  {
   "cell_type": "markdown",
   "id": "dc2e2c8b",
   "metadata": {},
   "source": [
    "# Lecture 8 – Data Science, Conclusion\n",
    "\n",
    "## History of Data Science, Winter 2022"
   ]
  },
  {
   "cell_type": "code",
   "execution_count": null,
   "id": "bfaf7489",
   "metadata": {},
   "outputs": [],
   "source": [
    "import pandas as pd\n",
    "import numpy as np\n",
    "import matplotlib.pyplot as plt"
   ]
  },
  {
   "cell_type": "markdown",
   "id": "289742ec",
   "metadata": {},
   "source": [
    "## PageRank"
   ]
  },
  {
   "cell_type": "code",
   "execution_count": null,
   "id": "bc5bdeb2",
   "metadata": {},
   "outputs": [],
   "source": [
    "A = np.array([[0, 1/2, 1/2, 1/3],\n",
    "              [1, 0, 0, 1/3],\n",
    "              [0, 0, 0, 1/3],\n",
    "              [0, 1/2, 1/2, 0]])"
   ]
  },
  {
   "cell_type": "markdown",
   "id": "962e0cf8",
   "metadata": {},
   "source": [
    "### Method 1 – Using eigenvalues and eigenvectors"
   ]
  },
  {
   "cell_type": "code",
   "execution_count": null,
   "id": "e664196f",
   "metadata": {},
   "outputs": [],
   "source": [
    "np.linalg.eigvals(A)"
   ]
  },
  {
   "cell_type": "code",
   "execution_count": null,
   "id": "90b6d07d",
   "metadata": {},
   "outputs": [],
   "source": [
    "steady_state = np.linalg.eig(A)[1][:, 0]\n",
    "steady_state"
   ]
  },
  {
   "cell_type": "code",
   "execution_count": null,
   "id": "ee24ac36",
   "metadata": {},
   "outputs": [],
   "source": [
    "A @ steady_state"
   ]
  },
  {
   "cell_type": "markdown",
   "id": "e88c81c1",
   "metadata": {},
   "source": [
    "To normalize so that `steady_state` sums to 1:"
   ]
  },
  {
   "cell_type": "code",
   "execution_count": null,
   "id": "beeb1461",
   "metadata": {},
   "outputs": [],
   "source": [
    "steady_state = steady_state / steady_state.sum()\n",
    "steady_state"
   ]
  },
  {
   "cell_type": "markdown",
   "id": "c4d5b81d",
   "metadata": {},
   "source": [
    "### Method 2 – Using iteration"
   ]
  },
  {
   "cell_type": "code",
   "execution_count": null,
   "id": "8c8f09fb",
   "metadata": {},
   "outputs": [],
   "source": [
    "x = (1/4) * np.ones(4)\n",
    "x"
   ]
  },
  {
   "cell_type": "code",
   "execution_count": null,
   "id": "7f6aee63",
   "metadata": {},
   "outputs": [],
   "source": [
    "steps = 0\n",
    "while True:\n",
    "    x = A @ x\n",
    "    steps += 1\n",
    "    diff = np.linalg.norm(x - steady_state)\n",
    "    if diff < 0.0001:\n",
    "        break"
   ]
  },
  {
   "cell_type": "code",
   "execution_count": null,
   "id": "c6a0f453",
   "metadata": {},
   "outputs": [],
   "source": [
    "x"
   ]
  },
  {
   "cell_type": "code",
   "execution_count": null,
   "id": "0b16fbda",
   "metadata": {},
   "outputs": [],
   "source": [
    "steps"
   ]
  },
  {
   "cell_type": "markdown",
   "id": "683732fd",
   "metadata": {},
   "source": [
    "Note that `x` is now very close to `steady_state`!"
   ]
  }
 ],
 "metadata": {
  "kernelspec": {
   "display_name": "Python 3 (ipykernel)",
   "language": "python",
   "name": "python3"
  },
  "language_info": {
   "codemirror_mode": {
    "name": "ipython",
    "version": 3
   },
   "file_extension": ".py",
   "mimetype": "text/x-python",
   "name": "python",
   "nbconvert_exporter": "python",
   "pygments_lexer": "ipython3",
   "version": "3.9.7"
  }
 },
 "nbformat": 4,
 "nbformat_minor": 5
}

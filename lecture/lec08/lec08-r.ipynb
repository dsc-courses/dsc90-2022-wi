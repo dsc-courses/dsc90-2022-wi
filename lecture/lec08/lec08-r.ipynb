{
 "cells": [
  {
   "cell_type": "markdown",
   "id": "eb31f12f",
   "metadata": {},
   "source": [
    "# Lecture 8 R Demo\n",
    "\n",
    "## History of Data Science, Winter 2022"
   ]
  },
  {
   "cell_type": "code",
   "execution_count": null,
   "id": "c59c065e",
   "metadata": {},
   "outputs": [],
   "source": [
    "data()"
   ]
  },
  {
   "cell_type": "code",
   "execution_count": null,
   "id": "fbe7d6e9",
   "metadata": {},
   "outputs": [],
   "source": [
    "data(mtcars)"
   ]
  },
  {
   "cell_type": "code",
   "execution_count": null,
   "id": "b52c7d72",
   "metadata": {},
   "outputs": [],
   "source": [
    "head(mtcars, 10)"
   ]
  },
  {
   "cell_type": "code",
   "execution_count": null,
   "id": "e4cdaa19",
   "metadata": {},
   "outputs": [],
   "source": [
    "x <- mtcars$wt\n",
    "x"
   ]
  },
  {
   "cell_type": "code",
   "execution_count": null,
   "id": "aa8aa582",
   "metadata": {},
   "outputs": [],
   "source": [
    "y <- mtcars$mpg\n",
    "y"
   ]
  },
  {
   "cell_type": "code",
   "execution_count": null,
   "id": "6c4f8647",
   "metadata": {},
   "outputs": [],
   "source": [
    "plot(x, y, pch=19)"
   ]
  },
  {
   "cell_type": "code",
   "execution_count": null,
   "id": "f2dd79b6",
   "metadata": {},
   "outputs": [],
   "source": [
    "plot(x, y, \n",
    "     main = \"Main title\",\n",
    "     xlab = \"X axis title\", \n",
    "     ylab = \"Y axis title\",\n",
    "     pch = 19, \n",
    "     frame = FALSE)\n",
    "abline(lm(y ~ x), col='blue')"
   ]
  }
 ],
 "metadata": {
  "kernelspec": {
   "display_name": "R",
   "language": "R",
   "name": "ir"
  },
  "language_info": {
   "codemirror_mode": "r",
   "file_extension": ".r",
   "mimetype": "text/x-r-source",
   "name": "R",
   "pygments_lexer": "r",
   "version": "4.1.0"
  }
 },
 "nbformat": 4,
 "nbformat_minor": 5
}

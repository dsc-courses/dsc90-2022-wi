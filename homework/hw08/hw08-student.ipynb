{
 "cells": [
  {
   "cell_type": "markdown",
   "id": "e5baac17",
   "metadata": {},
   "source": [
    "# Homework 8 – Data Science, Conclusion\n",
    "\n",
    "## History of Data Science, Winter 2022"
   ]
  },
  {
   "cell_type": "code",
   "execution_count": null,
   "id": "f398ebb2",
   "metadata": {},
   "outputs": [],
   "source": [
    "import pandas as pd\n",
    "import numpy as np\n",
    "import matplotlib.pyplot as plt\n",
    "\n",
    "import networkx as nx"
   ]
  },
  {
   "cell_type": "markdown",
   "id": "452330f7",
   "metadata": {},
   "source": [
    "## Question 1: PageRank\n",
    "\n",
    "In this question, you'll replicate the PageRank algorithm for any general network of webpages.\n",
    "\n",
    "The matrix $A$ that we developed in lecture is known as an **adjacency matrix**. An adjacency matrix contains a description of all of the edges (links) between nodes (webpages) in a network, along with weights for each edge. The adjacency matrix from Lecture 8 is given below."
   ]
  },
  {
   "cell_type": "code",
   "execution_count": null,
   "id": "60fcff7e",
   "metadata": {},
   "outputs": [],
   "source": [
    "# Run this cell.\n",
    "A = np.array([[0, 1/2, 1/2, 1/3],\n",
    "              [1, 0, 0, 1/3],\n",
    "              [0, 0, 0, 1/3],\n",
    "              [0, 1/2, 1/2, 0]])\n",
    "A"
   ]
  },
  {
   "cell_type": "markdown",
   "id": "454891da",
   "metadata": {},
   "source": [
    "Note that throughout this assignment, unlike in lecture, we will number our webpages 0, 1, 2, 3, and so on.\n",
    "\n",
    "To interpret the numbers in $A$:\n",
    "- Column 0 of $A$ describes the movement out of Page 0. The only page that Page 0 links to is Page 1, so that link has a weight of 1. As a result, the element in row 1 and column 0 of $A$ is equal to 1.\n",
    "- Page 1 links to Page 0 and Page 3, so a weight of 1/2 is assigned to each link. As a result, the element in row 0 and column 1 is equal to 1/2, and the element in row 3 and column 1 is equal to 1/2.\n",
    "- The same interpretations hold true for Page 2 and Page 3. \n",
    "\n",
    "Each column of an adjacency matrix describes the movement **from** a given page; **the sums of the columns in an adjacency matrix are equal to 1**. Each row of an adjacency matrix describes the movement **into** a given page; the sums of the rows in an adjacency matrix don't necessarily add to 1.\n",
    "\n",
    "Below, we've defined a function that uses the `networkx` library to draw a graph of a network given an adjacency matrix."
   ]
  },
  {
   "cell_type": "code",
   "execution_count": null,
   "id": "54a56f8b",
   "metadata": {},
   "outputs": [],
   "source": [
    "def plot_from_adjacency(adjacency_matrix, labels_dict=None, node_sizes=0.25):\n",
    "    np.random.seed(25)\n",
    "    plt.figure(figsize=(8, 5))\n",
    "    G = nx.from_numpy_matrix(adjacency_matrix.T, create_using=nx.DiGraph)\n",
    "    layout = nx.spring_layout(G)\n",
    "    nx.draw(G, layout, \n",
    "            node_size=15000 * node_sizes, labels=labels_dict, with_labels=True, font_color='white', font_weight='bold', font_size=15, \n",
    "            connectionstyle='arc3, rad = 0.1')\n",
    "    plt.show()"
   ]
  },
  {
   "cell_type": "markdown",
   "id": "565dfe4a",
   "metadata": {},
   "source": [
    "The result of calling it on `A` is as follows:"
   ]
  },
  {
   "cell_type": "code",
   "execution_count": null,
   "id": "145b8aba",
   "metadata": {},
   "outputs": [],
   "source": [
    "plot_from_adjacency(A)"
   ]
  },
  {
   "cell_type": "markdown",
   "id": "138a8867",
   "metadata": {},
   "source": [
    "### Question 1.1\n",
    "\n",
    "Having to specify an adjacency matrix manually is slightly cumbersome. It is more natural and convenient for us to describe the links between webpages using a dictionary. Once such example is as follows:"
   ]
  },
  {
   "cell_type": "code",
   "execution_count": null,
   "id": "e13cbeaf",
   "metadata": {},
   "outputs": [],
   "source": [
    "example_net = {\n",
    "    0: [1],\n",
    "    1: [0, 3],\n",
    "    2: [0, 3],\n",
    "    3: [0, 1, 2]\n",
    "}"
   ]
  },
  {
   "cell_type": "markdown",
   "id": "9c6eeacb",
   "metadata": {},
   "source": [
    "In the above \"network dictionary\", we are told that:\n",
    "- Page 0 links to Page 1,\n",
    "- Page 1 links to Pages 0 and 3,\n",
    "- Page 2 links to Pages 0 and 3, and\n",
    "- Page 3 links to Pages 0, 1, and 2\n",
    "\n",
    "**Note that this dictionary describes the same network that the adjacency matrix `A` does.**\n",
    "\n",
    "Below, complete the implementation of the function `create_adjacency`, which takes in a network dictionary (similar to `example_net`) and returns an adjacency matrix. A few notes:\n",
    "- It is **not** guaranteed that there are 4 pages in the network. \n",
    "- It **is** guaranteed that all pages link to at least one other page.\n",
    "\n",
    "***Hint:*** Look into `np.zeros`."
   ]
  },
  {
   "cell_type": "code",
   "execution_count": null,
   "id": "1e655573",
   "metadata": {},
   "outputs": [],
   "source": [
    "def create_adjacency(network):\n",
    "    # YOUR CODE HERE\n",
    "    ...\n",
    "\n",
    "# Should evaluate to the same matrix as A\n",
    "A_with_function = create_adjacency(example_net)\n",
    "A_with_function"
   ]
  },
  {
   "cell_type": "markdown",
   "id": "ed0ce01a",
   "metadata": {},
   "source": [
    "Run the following cell. It tests your `create_adjacency` function on a larger example. The output you should see is given below.\n",
    "\n",
    "```\n",
    "[[0.         0.25       0.         1.         0.33333333 0.        ]\n",
    " [0.         0.         0.33333333 0.         0.33333333 0.5       ]\n",
    " [0.         0.25       0.         0.         0.         0.        ]\n",
    " [0.         0.25       0.         0.         0.         0.5       ]\n",
    " [0.         0.         0.33333333 0.         0.         0.        ]\n",
    " [0.         0.25       0.33333333 0.         0.33333333 0.        ]]\n",
    "```"
   ]
  },
  {
   "cell_type": "code",
   "execution_count": null,
   "id": "eed47e46",
   "metadata": {},
   "outputs": [],
   "source": [
    "net_1 = {\n",
    "    0: [5],\n",
    "    1: [0, 2, 3, 5],\n",
    "    2: [1, 4, 5],\n",
    "    3: [0],\n",
    "    4: [0, 1, 5],\n",
    "    5: [1, 3],\n",
    "}\n",
    "\n",
    "matrix_1 = create_adjacency(net_1)\n",
    "print(matrix_1)"
   ]
  },
  {
   "cell_type": "markdown",
   "id": "49b2c397",
   "metadata": {},
   "source": [
    "**In your PDF writeup, include a screenshot of all of the code you wrote plus the outputs of all of the above code cells.**"
   ]
  },
  {
   "cell_type": "markdown",
   "id": "d3a06a73",
   "metadata": {},
   "source": [
    "### Question 1.2\n",
    "\n",
    "Complete the implementation of the function `scores`, which takes in an adjacency matrix (`matrix`) and returns the array containing the \"scores\" of each page. Recall from lecture that the score of a page can be interpreted as the long-run probability that a random internet user is on that page. As a result, the elements in the array that is returned must all be **non-negative and must sum to 1**.\n",
    "\n",
    "***Hint:*** This was done almost exactly in lecture, you just need to generalize the calculation for any adjacency matrix. There are two approaches you can use: \n",
    "- `np.linalg.matrix_power` (**recommended**). Wsatch the lecture recording to see how this works. If you use this approach, use an exponent of 100.\n",
    "- `np.linalg.eig`. The eigenvector you find might have `+0j` at the end of each element. This is because some of the other eigenvectors of the adjacency matrix may contain complex numbers, and so the entire result of `np.linalg.eig` contains complex numbers (rather than real numbers). The eigenvector corresponding to the eigenvalue of 1 for our adjacency matrices will always contain only real numbers, so you can safely convert the eigenvector you find to a float by using `.astype(np.float64)`.\n",
    "\n",
    "Either way, **do not** use a `for`-loop! The example in lecture involving a `for`-loop was purely for demonstration purposes."
   ]
  },
  {
   "cell_type": "code",
   "execution_count": null,
   "id": "dc6c6065",
   "metadata": {},
   "outputs": [],
   "source": [
    "def scores(matrix):\n",
    "    # YOUR CODE HERE\n",
    "    ...\n",
    "\n",
    "# Should be close to array([0.30769231, 0.38461538, 0.07692308, 0.23076923])\n",
    "scores(A_with_function)"
   ]
  },
  {
   "cell_type": "markdown",
   "id": "14c9b36a",
   "metadata": {},
   "source": [
    "Once you've completed `scores`, run the following cell. The output should be close to\n",
    "\n",
    "```\n",
    "array([0.25      , 0.17647059, 0.04411765, 0.20098039, 0.01470588,\n",
    "       0.31372549])\n",
    "```"
   ]
  },
  {
   "cell_type": "code",
   "execution_count": null,
   "id": "09e457cc",
   "metadata": {},
   "outputs": [],
   "source": [
    "scores(matrix_1)"
   ]
  },
  {
   "cell_type": "markdown",
   "id": "c0ec635b",
   "metadata": {},
   "source": [
    "**In your PDF writeup, include a screenshot of all of the code you wrote plus the outputs of all of the above code cells.**"
   ]
  },
  {
   "cell_type": "markdown",
   "id": "faf4858c",
   "metadata": {},
   "source": [
    "We can change the sizes of the pages in our network to be proportional to their PageRank scores. To do this, use the `node_sizes` argument in `plot_from_adjacency`."
   ]
  },
  {
   "cell_type": "code",
   "execution_count": null,
   "id": "7e18993f",
   "metadata": {},
   "outputs": [],
   "source": [
    "plot_from_adjacency(A_with_function, node_sizes=scores(A_with_function))"
   ]
  },
  {
   "cell_type": "code",
   "execution_count": null,
   "id": "e5096de0",
   "metadata": {},
   "outputs": [],
   "source": [
    "plot_from_adjacency(matrix_1, node_sizes=scores(matrix_1))"
   ]
  },
  {
   "cell_type": "markdown",
   "id": "3a2bf13d",
   "metadata": {},
   "source": [
    "### Question 1.3\n",
    "\n",
    "Complete the implementation of the function `pagerank`, which takes in an adjacency matrix (`matrix`) and returns the **numbers** of the pages in the matrix, in **decreasing** order of score. For example, since `scores(A_with_function)` evaluates to `array([0.30769231, 0.38461538, 0.07692308, 0.23076923])`, `pagerank(A_with_function)` should evaluate to `array([1, 0, 3, 2])`. This is because Page 1 has the highest score, Page 0 has the next highest score, Page 3 has the next highest score, and Page 2 has the lowest score.\n",
    "\n",
    "***Hint:*** Look into `np.argsort`. This should only take 2-3 lines; do not write a `for`-loop."
   ]
  },
  {
   "cell_type": "code",
   "execution_count": null,
   "id": "e620f0d9",
   "metadata": {},
   "outputs": [],
   "source": [
    "def pagerank(matrix):\n",
    "    # YOUR CODE HERE\n",
    "    ...\n",
    "\n",
    "# Should evaluate to array([1, 0, 3, 2])\n",
    "pagerank(A_with_function)"
   ]
  },
  {
   "cell_type": "markdown",
   "id": "dd3406ed",
   "metadata": {},
   "source": [
    "Once you've completed `pagenrank`, run the following cell. The output should be\n",
    "\n",
    "```\n",
    "array([5, 0, 3, 1, 2, 4])\n",
    "```"
   ]
  },
  {
   "cell_type": "code",
   "execution_count": null,
   "id": "95396f62",
   "metadata": {},
   "outputs": [],
   "source": [
    "pagerank(matrix_1)"
   ]
  },
  {
   "cell_type": "markdown",
   "id": "dd87e793",
   "metadata": {},
   "source": [
    "**In your PDF writeup, include a screenshot of all of the code you wrote plus the outputs of all of the above code cells.**"
   ]
  },
  {
   "cell_type": "markdown",
   "id": "6783ffe2",
   "metadata": {},
   "source": [
    "### Question 1.4\n",
    "\n",
    "Consider the following network:"
   ]
  },
  {
   "cell_type": "code",
   "execution_count": null,
   "id": "f5098d82",
   "metadata": {},
   "outputs": [],
   "source": [
    "weird_net = {\n",
    "    0: [0],\n",
    "    1: [0, 2, 4],\n",
    "    2: [1, 3],\n",
    "    3: [0, 1, 2],\n",
    "    4: [2]\n",
    "}"
   ]
  },
  {
   "cell_type": "markdown",
   "id": "b92e81e6",
   "metadata": {},
   "source": [
    "Note that Page 0 links to itself and to no other pages. Practically speaking, we can interpret Page 0 as being a \"dead end\", with no outgoing links.\n",
    "\n",
    "Run the cells below to compute the adjacency matrix and scores for the above network."
   ]
  },
  {
   "cell_type": "code",
   "execution_count": null,
   "id": "5a4ccf64",
   "metadata": {},
   "outputs": [],
   "source": [
    "weird_matrix = create_adjacency(weird_net)\n",
    "weird_scores = scores(weird_matrix)\n",
    "weird_scores"
   ]
  },
  {
   "cell_type": "markdown",
   "id": "3a27b7b0",
   "metadata": {},
   "source": [
    "In addition, run the cell below."
   ]
  },
  {
   "cell_type": "code",
   "execution_count": null,
   "id": "e68f1916",
   "metadata": {},
   "outputs": [],
   "source": [
    "plot_from_adjacency(weird_matrix, node_sizes=weird_scores)"
   ]
  },
  {
   "cell_type": "markdown",
   "id": "56fa9c5e",
   "metadata": {},
   "source": [
    "It appears that Page 0's score is 1, and all of the other pages' scores are 0!\n",
    "\n",
    "**In your PDF writeup, include your answer to the following two questions.**\n",
    "\n",
    "- Why do you think Page 0's score is so high, and the other pages' scores are so low? (***Hint:*** Think about how we interpret the score of a page.)\n",
    "- Read the [Damping factor](https://en.wikipedia.org/wiki/PageRank#Damping_factor) section of the Wikipedia article on PageRank. In two sentences, describe (to the best of your ability) how using damping would prevent the score of Page 0 from becoming 1. (If you read the article closely, the answer is there – describe it in your own words.)"
   ]
  }
 ],
 "metadata": {
  "kernelspec": {
   "display_name": "Python 3 (ipykernel)",
   "language": "python",
   "name": "python3"
  },
  "language_info": {
   "codemirror_mode": {
    "name": "ipython",
    "version": 3
   },
   "file_extension": ".py",
   "mimetype": "text/x-python",
   "name": "python",
   "nbconvert_exporter": "python",
   "pygments_lexer": "ipython3",
   "version": "3.9.7"
  }
 },
 "nbformat": 4,
 "nbformat_minor": 5
}

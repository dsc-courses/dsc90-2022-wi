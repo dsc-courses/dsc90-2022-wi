{
 "cells": [
  {
   "cell_type": "markdown",
   "id": "38f79029",
   "metadata": {},
   "source": [
    "# Homework 4 Supplementary Notebook\n",
    "\n",
    "## History of Data Science, Winter 2022"
   ]
  },
  {
   "cell_type": "code",
   "execution_count": null,
   "id": "ed11fcaa",
   "metadata": {},
   "outputs": [],
   "source": [
    "import pandas as pd\n",
    "import numpy as np"
   ]
  },
  {
   "cell_type": "markdown",
   "id": "269e6c93",
   "metadata": {},
   "source": [
    "## Question 2\n",
    "\n",
    "**Note:** To submit your work for this question, provide screenshots of **all** of the code you wrote and **all** of the outputs of your code in your PDF writeup.\n",
    "\n",
    "In this question, we'll write our own implementation of Galton's method of percentiles for binned data.\n",
    "\n",
    "Let's use Galton's pauperism data from lecture. \n",
    "\n",
    "<img src='data/galton-table.png' width=500>\n",
    "\n",
    "\n",
    "Run the cell below to load it in as a DataFrame."
   ]
  },
  {
   "cell_type": "code",
   "execution_count": null,
   "id": "1eeb3e2e",
   "metadata": {},
   "outputs": [],
   "source": [
    "pauper_df = pd.DataFrame().assign(\n",
    "    bins=np.arange(1.75, 11.25, 0.5),\n",
    "    counts=[7, 7, 11, 21, 28, 33, 46, 55, 40, 45, 44, 35, 44, 31, 27, 34, 21, 11, 50]\n",
    ")"
   ]
  },
  {
   "cell_type": "code",
   "execution_count": null,
   "id": "7339839f",
   "metadata": {},
   "outputs": [],
   "source": [
    "pauper_df"
   ]
  },
  {
   "cell_type": "markdown",
   "id": "6ea69400",
   "metadata": {},
   "source": [
    "The values in the `'bins'` column are right endpoints. For instance, row 3 tells us that there are 21 values between 2.75 and 3.25.\n",
    "\n",
    "There are a few minor differences between the data in Galton's table and the DataFrame above:\n",
    "- The final bin – \"above 10.25\" – is replaced with a 10.25 to 10.75 bin. The first bin is still \"under 1.75\".\n",
    "- The count in the final bin was 48 in lecture but is replaced with 50 here. This is so that the total number of data points (590) is an integer multiple of 10; this will be relevant in Question 2.2."
   ]
  },
  {
   "cell_type": "markdown",
   "id": "ebd04b58",
   "metadata": {},
   "source": [
    "### Question 2.1\n",
    "\n",
    "Below, complete the implementation of the function `add_cumulative`, which takes in a DataFrame formatted the same way as `pauper_df` (i.e. with a `'bins'` column and `'counts'` column) and returns a DataFrame with a third column, `'cumulative_counts'`, containing the total number of observations **in or before** each bin. The function `np.cumsum` may be helpful here.\n",
    "\n",
    "If you implement `add_cumulative` correctly, the first few rows of `add_cumulative(pauper_df)` should look like this:\n",
    "\n",
    "<table border=\"1\" class=\"dataframe\">\n",
    "  <thead>\n",
    "    <tr style=\"text-align: right;\">\n",
    "      <th></th>\n",
    "      <th>bins</th>\n",
    "      <th>counts</th>\n",
    "      <th>cumulative_counts</th>\n",
    "    </tr>\n",
    "  </thead>\n",
    "  <tbody>\n",
    "    <tr>\n",
    "      <th>0</th>\n",
    "      <td>1.75</td>\n",
    "      <td>7</td>\n",
    "      <td>7</td>\n",
    "    </tr>\n",
    "    <tr>\n",
    "      <th>1</th>\n",
    "      <td>2.25</td>\n",
    "      <td>7</td>\n",
    "      <td>14</td>\n",
    "    </tr>\n",
    "    <tr>\n",
    "      <th>2</th>\n",
    "      <td>2.75</td>\n",
    "      <td>11</td>\n",
    "      <td>25</td>\n",
    "    </tr>\n",
    "    <tr>\n",
    "      <th>3</th>\n",
    "      <td>3.25</td>\n",
    "      <td>21</td>\n",
    "      <td>46</td>\n",
    "    </tr>\n",
    "    <tr>\n",
    "      <th>4</th>\n",
    "      <td>3.75</td>\n",
    "      <td>28</td>\n",
    "      <td>74</td>\n",
    "    </tr>\n",
    "  </tbody>\n",
    "</table>\n",
    "\n",
    "**Make sure to include a screenshot of your implementation in your PDF writeup.**"
   ]
  },
  {
   "cell_type": "code",
   "execution_count": null,
   "id": "c810d28a",
   "metadata": {},
   "outputs": [],
   "source": [
    "def add_cumulative(df):\n",
    "    ..."
   ]
  },
  {
   "cell_type": "markdown",
   "id": "071b6a92",
   "metadata": {},
   "source": [
    "Once you've completed your implementation of `add_cumulative`, run the cell below."
   ]
  },
  {
   "cell_type": "code",
   "execution_count": null,
   "id": "7a541417",
   "metadata": {},
   "outputs": [],
   "source": [
    "add_cumulative(pauper_df)"
   ]
  },
  {
   "cell_type": "markdown",
   "id": "8c90ad28",
   "metadata": {},
   "source": [
    "### Question 2.2\n",
    "\n",
    "Percentiles, deciles, and quartiles are all special cases of **quantiles**. Percentiles divide data into 100 groups, deciles divide data into 10 groups, and quartiles divide data into 4 groups. As a result, there are 99 percentiles, 9 deciles, and 3 quartiles.\n",
    "\n",
    "Below, complete the implementation of the function `quantiles`, which takes in a DataFrame (again, formatted the same way as `pauper_df`) and a number of groups, and returns the corresponding quantiles as an array. For example, `quantiles(pauper_df, 10)` should return an array of the 1st, 2nd, 3rd, ..., 9th deciles (or equivalently, the 10th, 20th, 30th, ..., 90th percentiles).\n",
    "\n",
    "Note, this will require a significant amount of work – our implementation was ~16 lines. To make things simpler, you can assume that the number of data points in the input `df` is an integer multiple of `num_groups`. For example, `pauper_df` has 590 observations; when we call `quantiles(pauper, 10)` we're asking for estimates of the observations at positions 59, 118, ..., 531. (`np.arange` may be helpful here, as will the [DSC 10 reference sheet](https://drive.google.com/file/d/1mQApk9Ovdi-QVqMgnNcq5dZcWucUKoG-/view).)\n",
    "\n",
    "Make sure your function works for any dataset, not just `pauper_df`. In particular, if you're following the steps from Galton's table at the top of this notebook, replace 0.5 with a generic `bin_width` that is calculated from `df`.\n",
    "\n",
    "**Make sure to include a screenshot of your implementation in your PDF writeup.**"
   ]
  },
  {
   "cell_type": "code",
   "execution_count": null,
   "id": "fe269b6e",
   "metadata": {},
   "outputs": [],
   "source": [
    "def quantiles(df, num_groups):\n",
    "    ..."
   ]
  },
  {
   "cell_type": "markdown",
   "id": "6a1a4af1",
   "metadata": {},
   "source": [
    "Once you've completed your implementation of `quantiles`, run the cell below. **Make sure to include a screenshot of the output of the following cell in your PDF writeup.**"
   ]
  },
  {
   "cell_type": "code",
   "execution_count": null,
   "id": "4fbb13b5",
   "metadata": {},
   "outputs": [],
   "source": [
    "quantiles(pauper_df, 10)"
   ]
  },
  {
   "cell_type": "markdown",
   "id": "2b23308c",
   "metadata": {},
   "source": [
    "These numbers should be very close to the numbers in the far-right column in Galton's table, but not exactly equal. (Why are they not exactly equal?)\n",
    "\n",
    "To make sure your function works on other DataFrames, let's consider the heights dataset introduced in Slide 30 of Lecture 4.\n",
    "\n",
    "<img src='data/height-data.png' width=500>\n",
    "\n",
    "Run the cell below. If you did anything correctly, you should see an array with three elements, one of which is 61. **Make sure to include a screenshot of the output of the following cell in your PDF writeup.**"
   ]
  },
  {
   "cell_type": "code",
   "execution_count": null,
   "id": "b52f28c6",
   "metadata": {},
   "outputs": [],
   "source": [
    "height_df = pd.DataFrame().assign(\n",
    "    bins=[56, 60, 64, 68, 72, 76, 80],\n",
    "    counts=[4, 8, 12, 15, 12, 8, 1]\n",
    ")\n",
    "\n",
    "quantiles(height_df, 4)"
   ]
  },
  {
   "cell_type": "markdown",
   "id": "51d5fda0",
   "metadata": {},
   "source": [
    "Nice work!"
   ]
  }
 ],
 "metadata": {
  "kernelspec": {
   "display_name": "Python 3 (ipykernel)",
   "language": "python",
   "name": "python3"
  },
  "language_info": {
   "codemirror_mode": {
    "name": "ipython",
    "version": 3
   },
   "file_extension": ".py",
   "mimetype": "text/x-python",
   "name": "python",
   "nbconvert_exporter": "python",
   "pygments_lexer": "ipython3",
   "version": "3.9.7"
  }
 },
 "nbformat": 4,
 "nbformat_minor": 5
}

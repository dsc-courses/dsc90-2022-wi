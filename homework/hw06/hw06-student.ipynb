{
 "cells": [
  {
   "cell_type": "markdown",
   "id": "0228b4bd",
   "metadata": {},
   "source": [
    "# Homework 6 – Visualization\n",
    "\n",
    "## History of Data Science, Winter 2022"
   ]
  },
  {
   "cell_type": "code",
   "execution_count": null,
   "id": "59b4364a",
   "metadata": {},
   "outputs": [],
   "source": [
    "import pandas as pd\n",
    "import numpy as np\n",
    "\n",
    "import plotly.express as px\n",
    "import folium\n",
    "\n",
    "def write_file(path, html_string):\n",
    "    with open(path, 'w') as f:\n",
    "        f.write(html_string)\n",
    "        f.close()"
   ]
  },
  {
   "cell_type": "markdown",
   "id": "81f6218b",
   "metadata": {},
   "source": [
    "**Note:** Homework 6 will work a little differently than earlier homework assignments did. Specifically, there are three questions, Question 1, Question 2, and Question 3. Each question will have you create a single interactive visualization that is historically relevant in some way.\n",
    "\n",
    "Instead of submitting the assignment as a PDF, you will upload your work to a website you create on your own using GitHub Pages! This will be good practice for setting up project websites and portfolios of your own. "
   ]
  },
  {
   "cell_type": "markdown",
   "id": "0ffca877",
   "metadata": {},
   "source": [
    "## Question 1 – John Snow and Cholera Deaths\n",
    "\n",
    "In this question, we'll create John Snow's iconic map of cholera deaths in SoHo, London:\n",
    "\n",
    "<img src='data/snow.jpg' width=400>"
   ]
  },
  {
   "cell_type": "markdown",
   "id": "d2805faf",
   "metadata": {},
   "source": [
    "The library we will use to create this visualization is called `folium`. It has already been imported for you. Let's look at a quick example of how to create maps in `folium`. For this example, we'll look at data that describes the location of every public university in California."
   ]
  },
  {
   "cell_type": "code",
   "execution_count": null,
   "id": "c533a7f9",
   "metadata": {},
   "outputs": [],
   "source": [
    "universities = pd.read_csv('data/universities/enrollment_and_location.csv')\n",
    "universities.head(5) # head(5) means \"show the first 5 rows of the DataFrame\"; it does not change the DataFrame"
   ]
  },
  {
   "cell_type": "markdown",
   "id": "03fa156d",
   "metadata": {},
   "source": [
    "The relevant object from the `folium` library is the `Map` object. Let's instantiate a `Map` object with no arguments:"
   ]
  },
  {
   "cell_type": "code",
   "execution_count": null,
   "id": "6182105e",
   "metadata": {},
   "outputs": [],
   "source": [
    "folium.Map()"
   ]
  },
  {
   "cell_type": "markdown",
   "id": "b3b54083",
   "metadata": {},
   "source": [
    "This map seems to be pretty zoomed out, and it also happens to be centered at the point on Earth's surface with latitude 0 and longitude 0.\n",
    "\n",
    "Since we're looking at schools in California, we'd like our map to be centered on California. We can tell `folium` where to center our map, but to do this we need to find the rough geographic center of the points that we'll be plotting. We can do this by finding the average latitude and longitude of all locations in our dataset:"
   ]
  },
  {
   "cell_type": "code",
   "execution_count": null,
   "id": "be6a4b6f",
   "metadata": {},
   "outputs": [],
   "source": [
    "california_center = (universities['Latitude'].mean(), universities['Longitude'].mean())\n",
    "california_center"
   ]
  },
  {
   "cell_type": "markdown",
   "id": "7f4796dc",
   "metadata": {},
   "source": [
    "Let's assign `california_center` to a `folium.Map` argument whose `location` is set to `center` and whose `zoom_start` is set to 6.\n",
    "\n",
    "Take a look at what happens if `zoom_start` is set to 7 or 5!"
   ]
  },
  {
   "cell_type": "code",
   "execution_count": null,
   "id": "750f0502",
   "metadata": {},
   "outputs": [],
   "source": [
    "cal_map = folium.Map(location=california_center, zoom_start=6, width=600, height=400) # Also setting width and height to make a smaller map\n",
    "cal_map"
   ]
  },
  {
   "cell_type": "markdown",
   "id": "14ffb3ed",
   "metadata": {},
   "source": [
    "We now need to add markers at each university. To add a marker to a `folium.Map` object, we first need to create a `folium.CircleMarker` object with all of the characteristics that we want (e.g. size, position, label). We then call the `.add_to` method on that `folium.CircleMarker` object, and as an argument pass in our `folium.Map` object.\n",
    "\n",
    "Here's an example of what that would look like."
   ]
  },
  {
   "cell_type": "code",
   "execution_count": null,
   "id": "80d7d3bf",
   "metadata": {},
   "outputs": [],
   "source": [
    "folium.CircleMarker(location=(32.880060, -117.234014),\n",
    "                    popup='University of California, San Diego',\n",
    "                    color='blue',\n",
    "                    radius=4,\n",
    "                    alpha=0.1).add_to(cal_map);"
   ]
  },
  {
   "cell_type": "code",
   "execution_count": null,
   "id": "51746f61",
   "metadata": {},
   "outputs": [],
   "source": [
    "cal_map"
   ]
  },
  {
   "cell_type": "markdown",
   "id": "f6e04fc5",
   "metadata": {},
   "source": [
    "If you click on the blue circle, you should see \"University of California, San Diego\".\n",
    "\n",
    "In order to add circles for every school, we'll have to loop through every row of our DataFrame. Here's how:"
   ]
  },
  {
   "cell_type": "code",
   "execution_count": null,
   "id": "b7018f17",
   "metadata": {},
   "outputs": [],
   "source": [
    "# Redefining cal_map, just so that we can get rid of the first CircleMarker that we added above\n",
    "cal_map = folium.Map(location=california_center, zoom_start=6, width=600, height=400)\n",
    "\n",
    "for _, row in universities.iterrows():\n",
    "    folium.CircleMarker(location=(row['Latitude'], row['Longitude']),\n",
    "                    popup=row['Name'],\n",
    "                    color='blue' if 'University of California' in row['Name'] else 'red',\n",
    "                    radius=row['Enrollment'] // 5000,\n",
    "                    fill=True,\n",
    "                    alpha=0.4).add_to(cal_map);\n",
    "    \n",
    "cal_map"
   ]
  },
  {
   "cell_type": "markdown",
   "id": "9d83e029",
   "metadata": {},
   "source": [
    "Note that the radius of each university's circle is proportional to the number of students enrolled at that university. Also note that if we want to draw \"pins\" instead of circles, we can use `folium.Marker` instead of `folium.CircleMarker`. Change `CircleMarker` to `Marker` above and observe what happens."
   ]
  },
  {
   "cell_type": "markdown",
   "id": "7d5ae829",
   "metadata": {},
   "source": [
    "### Back to the John Snow example!\n",
    "\n",
    "<img src='data/snow.jpg' width=400>"
   ]
  },
  {
   "cell_type": "markdown",
   "id": "83ed291a",
   "metadata": {},
   "source": [
    "Run the two cells below to load in two DataFrames – one containing the latitude, longitude, and number of deaths at each address, and another containing the location of each water pump."
   ]
  },
  {
   "cell_type": "code",
   "execution_count": null,
   "id": "6cf97a80",
   "metadata": {},
   "outputs": [],
   "source": [
    "snow = pd.read_csv('data/snow/deaths.csv')\n",
    "snow.head(5)"
   ]
  },
  {
   "cell_type": "code",
   "execution_count": null,
   "id": "df0632d9",
   "metadata": {},
   "outputs": [],
   "source": [
    "pumps = pd.read_csv('data/snow/pumps.csv')\n",
    "pumps"
   ]
  },
  {
   "cell_type": "markdown",
   "id": "db94e828",
   "metadata": {},
   "source": [
    "**Your Job:** Create a map using `folium` that has:\n",
    "- A circle at each location with a death. The radius of the circle should be **proportionate** to the number of deaths at that location; make sure to make the circles large enough to be visible, but small enough so that they don't overlap too much. You can choose the colors, fills, etc.\n",
    "- A marker at each location with a pump. When we click on a marker, it should show the name of the pump. You can choose the color of the marker (to set the color of the marker to red, for example, set the keyword argument `icon` in `folium.Marker` to `folium.Icon(color='red')`).\n",
    "\n",
    "You will have to figure out what reasonable `location`, `zoom_start`, `width` and `height` arguments are when calling `folium.Map` for the first time. We should be able to see most of the circles and markers by default (i.e. without zooming in even further), and the circles should take up most of the space on the map (i.e. don't start too far out).\n",
    "\n",
    "For example, your map may look like this:\n",
    "\n",
    "<img src='data/snow-example.png' width=500>\n",
    "\n",
    "Save your plot to a variable name (e.g. at some point perhaps you'll have `snow_map = folium.Map(...)`)."
   ]
  },
  {
   "cell_type": "code",
   "execution_count": null,
   "id": "185418b3",
   "metadata": {},
   "outputs": [],
   "source": [
    "# YOUR CODE HERE\n",
    "..."
   ]
  },
  {
   "cell_type": "markdown",
   "id": "c5500bb6",
   "metadata": {},
   "source": [
    "## Question 2 – Galton's Heights\n",
    "\n",
    "In Lecture 4 (and in DSC 10), we briefly revisited Sir Francis Galton's heights dataset. Run the cell below to load this dataset in as a DataFrame."
   ]
  },
  {
   "cell_type": "code",
   "execution_count": null,
   "id": "fd141994",
   "metadata": {},
   "outputs": [],
   "source": [
    "galton = pd.read_csv('data/galton/GaltonFamilies.csv')\n",
    "galton"
   ]
  },
  {
   "cell_type": "markdown",
   "id": "921783ac",
   "metadata": {},
   "source": [
    "Previously, when we were only able to look at two variables at a time, we looked at `'childHeight'` vs `'midparentHeight'` (which, recall, is a weighted average of a child's mother's height and father's height)."
   ]
  },
  {
   "cell_type": "code",
   "execution_count": null,
   "id": "76fe7ece",
   "metadata": {},
   "outputs": [],
   "source": [
    "px.scatter(galton, x='midparentHeight', y='childHeight')"
   ]
  },
  {
   "cell_type": "markdown",
   "id": "89f8455e",
   "metadata": {},
   "source": [
    "**Your Job:** Use `px.scatter_3d` to create a **3D scatterplot** that visualizes `'father'`'s height on the $x$-axis, `'mother'`'s height on the $y$-axis, and `'childHeight'` on the $z$-axis. Color each point according to the child's `'gender'`. Rename the axes to \"Father's Height\", \"Mother's Height\", and \"Child's Height\", and give the plot an appropriate title. You're free to change other aspects of the plot (colors, fonts, etc) but you are not required to.\n",
    "\n",
    "Save your plot to a variable name (e.g. at some point perhaps you'll have `galton_fig = px.scatter_3d(...)`)."
   ]
  },
  {
   "cell_type": "code",
   "execution_count": null,
   "id": "95e72cfd",
   "metadata": {},
   "outputs": [],
   "source": [
    "# YOUR CODE HERE\n",
    "..."
   ]
  },
  {
   "cell_type": "markdown",
   "id": "451abbcb",
   "metadata": {},
   "source": [
    "## Question 3 – French Departments\n",
    "\n",
    "Recall from lecture that the first ever **choropleth** depicted the levels of literacy in different regions of France. These regions are actually called \"departments\" (in France, \"regions\" are like states and \"departments\" are like counties).\n",
    "\n",
    "<img src='https://upload.wikimedia.org/wikipedia/commons/3/38/Carte_figurative_de_l%27instruction_populaire_de_la_France.jpg' width=300>\n",
    "\n",
    "In this question, you will draw a choropleth depicting the population of each department in France. This time, however, you will have to access the necessary pieces of data on your own."
   ]
  },
  {
   "cell_type": "markdown",
   "id": "33866b93",
   "metadata": {},
   "source": [
    "### Collecting and Cleaning Data"
   ]
  },
  {
   "cell_type": "markdown",
   "id": "67460e1d",
   "metadata": {},
   "source": [
    "First, we need to find a **geojson** file that contains the boundaries of each department of France.\n",
    "\n",
    "**Task 1:** Follow these instructions:\n",
    "1. Go to [this site](https://france-geojson.gregoiredavid.fr).\n",
    "2. Click \"Départements\", then click \"Télécharger.\"\n",
    "3. Now, you should see a file containing several lists of numbers. Copy the entire file you see, paste it in a text editor on your computer, and save it in the `.json` format.\n",
    "4. Upload that `.json` file to DataHub, and store it in the `data/france/` subfolder of the `dsc90-2022-wi/homework/hw06` folder.\n",
    "5. Call the function `read_json` (defined below) on the path to your `.json` file, and store the result in the variable `geojson`. For example, if your file is called `french-departments.json`, you would write `geojson = read_json('data/france/french-departments.json')`."
   ]
  },
  {
   "cell_type": "code",
   "execution_count": null,
   "id": "2ade7c97",
   "metadata": {},
   "outputs": [],
   "source": [
    "import json\n",
    "def read_json(path):\n",
    "    f = open(path, 'r')\n",
    "    return json.load(f)\n",
    "\n",
    "# YOUR CODE HERE\n",
    "geojson = ..."
   ]
  },
  {
   "cell_type": "markdown",
   "id": "28add82c",
   "metadata": {},
   "source": [
    "We now have a **dictionary** containing the boundaries of all French departments. For instance, the following cell shows the boundaries of the French department \"Aisne.\""
   ]
  },
  {
   "cell_type": "code",
   "execution_count": null,
   "id": "cba506b2",
   "metadata": {},
   "outputs": [],
   "source": [
    "geojson['features'][0]"
   ]
  },
  {
   "cell_type": "markdown",
   "id": "0f0989fc",
   "metadata": {},
   "source": [
    "We now need to find a dataset containing the population of each French department.\n",
    "\n",
    "**Task 2:** \n",
    "1. Google \"french departments by population\" or something similar, and open the first Wikipedia article you see.\n",
    "2. Paste the link to the Wikipedia article at [this site](https://wikitable2csv.ggor.de) and click \"Convert\".\n",
    "3. Click \"Download\". Ensure it downloads as a `.csv`; change its extension to `.csv` if it does not.\n",
    "4. Upload the `.csv` file to DataHub, also in the `data/france/` folder.\n",
    "5. Load the dataset as a DataFrame into the variable name `population_raw`, using `pd.read_csv`."
   ]
  },
  {
   "cell_type": "code",
   "execution_count": null,
   "id": "26f4b86c",
   "metadata": {},
   "outputs": [],
   "source": [
    "# YOUR CODE HERE\n",
    "population_raw = ...\n",
    "population_raw.head(5)"
   ]
  },
  {
   "cell_type": "markdown",
   "id": "e606e544",
   "metadata": {},
   "source": [
    "The dataset you collected from Wikipedia unfortunately stores most numerical columns as strings, due to characters like commas and brackets:"
   ]
  },
  {
   "cell_type": "code",
   "execution_count": null,
   "id": "a43038da",
   "metadata": {},
   "outputs": [],
   "source": [
    "population_raw['Legal population in 2013']"
   ]
  },
  {
   "cell_type": "markdown",
   "id": "a107712d",
   "metadata": {},
   "source": [
    "Run the cell below. It converts all elements of the `'Legal population in 2013'` column to integers, selects just the relevant columns from `population_raw`, and stores the result as `population`. (Ignore the warning.)"
   ]
  },
  {
   "cell_type": "code",
   "execution_count": null,
   "id": "5bcdf512",
   "metadata": {},
   "outputs": [],
   "source": [
    "population_raw['2013 Population'] = population_raw['Legal population in 2013'].str.replace(',', '').str.replace('\\\\[6\\\\]', '').str.replace('\\[\\]', '').astype(int)\n",
    "population = population_raw[['Department', '2013 Population']]\n",
    "population"
   ]
  },
  {
   "cell_type": "markdown",
   "id": "fc3d1b7a",
   "metadata": {},
   "source": [
    "**Task 3:** Use `px.choropleth` to draw a choropleth showing the population of each department of France. You will have to set several arguments:\n",
    "- The first argument should be a DataFrame containing the numerical variable we want to visualize\n",
    "- The `geojson` argument should be a dictionary containing the boundaries of each department\n",
    "- The `locations` argument should be the name of the column in the DataFrame that contains the name of each department\n",
    "- The `featureidkey` should be `'properties.nom'` (scroll to the very bottom of the output for `geojson['features'][0]` to see why)\n",
    "\n",
    "You should also set the `color_continuous_scale` argument to one of the Built-In Sequential Color scales [mentioned here](https://plotly.com/python/builtin-colorscales/) (for example, you could set `color_continuous_scale=px.colors.sequential.tempo`). Try out a few and see which one you like the most!\n",
    "\n",
    "You should also give your plot a `title`.\n",
    "\n",
    "Save your plot to a variable name (e.g. at some point perhaps you'll have `france_fig = px.choropleth(...)`). Then, write `france_fig.update_geos(fitbounds=\"locations\", visible=False)` to make sure your choropleth is zoomed in on the relevant region."
   ]
  },
  {
   "cell_type": "code",
   "execution_count": null,
   "id": "4af56a19",
   "metadata": {},
   "outputs": [],
   "source": [
    "# YOUR CODE HERE\n",
    "..."
   ]
  },
  {
   "cell_type": "markdown",
   "id": "071e235b",
   "metadata": {},
   "source": [
    "Try and find the \"Paris\" department. Is it the most populated department? Is it the most **densely** populated department?"
   ]
  },
  {
   "cell_type": "markdown",
   "id": "6da45d5f",
   "metadata": {},
   "source": [
    "## Submission Instructions\n",
    "\n",
    "Follow the instructions [here](https://historyofdsc.com/resources/weeks/week06/) to submit your work."
   ]
  }
 ],
 "metadata": {
  "kernelspec": {
   "display_name": "Python 3 (ipykernel)",
   "language": "python",
   "name": "python3"
  },
  "language_info": {
   "codemirror_mode": {
    "name": "ipython",
    "version": 3
   },
   "file_extension": ".py",
   "mimetype": "text/x-python",
   "name": "python",
   "nbconvert_exporter": "python",
   "pygments_lexer": "ipython3",
   "version": "3.9.7"
  }
 },
 "nbformat": 4,
 "nbformat_minor": 5
}

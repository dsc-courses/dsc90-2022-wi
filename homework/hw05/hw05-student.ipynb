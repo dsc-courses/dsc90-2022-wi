{
 "cells": [
  {
   "cell_type": "markdown",
   "id": "ecbba883",
   "metadata": {},
   "source": [
    "# Homework 5 Supplementary Notebook\n",
    "\n",
    "## History of Data Science, Winter 2022"
   ]
  },
  {
   "cell_type": "code",
   "execution_count": null,
   "id": "128cf3cb",
   "metadata": {},
   "outputs": [],
   "source": [
    "import numpy as np\n",
    "from scipy.special import comb\n",
    "import matplotlib.pyplot as plt\n",
    "plt.style.use('fivethirtyeight')\n",
    "from IPython.display import YouTubeVideo"
   ]
  },
  {
   "cell_type": "markdown",
   "id": "97c087d1",
   "metadata": {},
   "source": [
    "## Question 2\n",
    "\n",
    "In this question, we'll simulate another classical problem in probability, called the Gambler's Ruin. The term \"Gambler's Ruin\" refers to many different but related problems. For our purposes, we will consider the following scenario:\n",
    "- A gambler starts with $i$ dollars. Each time they play a round of a game, they win with probability $p$ (and hence lose with probability $1-p$).\n",
    "    - If they win the round, they win 1 dollar.\n",
    "    - If they lose the round, they lose 1 dollar.\n",
    "- They stop playing either when they hit a target of $n$ dollars (i.e. they won) or when they end up with 0 dollars (i.e. they went broke, hence the term \"the Gambler's ruin\").\n",
    "\n",
    "This is an example of what's called a \"random walk\" in probability. Watch 0:51 to 4:38 of the video below for more context."
   ]
  },
  {
   "cell_type": "code",
   "execution_count": null,
   "id": "c45d1de4",
   "metadata": {},
   "outputs": [],
   "source": [
    "YouTubeVideo('stgYW6M5o4k')"
   ]
  },
  {
   "cell_type": "markdown",
   "id": "2f67eab7",
   "metadata": {},
   "source": [
    "### Question 2.1\n",
    "\n",
    "Let's start by simulating a single game until completion. Below, complete the implementation of the function `ruin_one`. It should take in an initial balance `i`, a target `n`, and the probability of winning a given round, `p`. It should repeatedly either add 1 or subtract 1 from the player's balance – adding 1 with probability `p`, subtracting 1 with probability `1-p` – until the player's balance reaches `n` or reaches `0`. If the player's balance reaches `n`, return `'W'`, and if the player's balance reaches `0`, return `'L'`.\n",
    "\n",
    "**_Hint_:** Look into optional arguments that `np.random.choice` can use.\n",
    "\n",
    "**Make sure to include a screenshot of your implementation in your PDF writeup.**"
   ]
  },
  {
   "cell_type": "code",
   "execution_count": null,
   "id": "28b041dd",
   "metadata": {},
   "outputs": [],
   "source": [
    "def ruin_one(i, n, p):\n",
    "    ..."
   ]
  },
  {
   "cell_type": "markdown",
   "id": "a25f173d",
   "metadata": {},
   "source": [
    "Once you've completed `ruin_one`, run the following cell several times. Each time you call it, you're simulating the act of playing a game where the player:\n",
    "- starts with a balance of \\\\$5,\n",
    "- wins if they reach \\\\$15, and\n",
    "- is equally likely to win or lose any given round (since `p = 0.5`)."
   ]
  },
  {
   "cell_type": "code",
   "execution_count": null,
   "id": "8d38911c",
   "metadata": {},
   "outputs": [],
   "source": [
    "ruin_one(5, 15, 0.5)"
   ]
  },
  {
   "cell_type": "markdown",
   "id": "b0f094ca",
   "metadata": {},
   "source": [
    "### Question 2.2\n",
    "\n",
    "Now, complete the implementation of the function `ruin_many`, which takes in the same arguments as `ruin_one`. It should call `ruin_one` `reps` times, and should return the **proportion** of simulations in which the player won.\n",
    "\n",
    "**_Hint:_** You'll need to use a `for`-loop; **don't** use `i` as your loop variable, since `i` is one of the arguments to both `ruin_one` and `ruin_many`.\n",
    "\n",
    "**Make sure to include a screenshot of your implementation in your PDF writeup.**"
   ]
  },
  {
   "cell_type": "code",
   "execution_count": null,
   "id": "041058a8",
   "metadata": {},
   "outputs": [],
   "source": [
    "def ruin_many(i, n, p, reps=10000):\n",
    "    ..."
   ]
  },
  {
   "cell_type": "markdown",
   "id": "1c6a7ff4",
   "metadata": {},
   "source": [
    "Once you've completed `simulate_many_games`, run the following cell. It might take up to ~10 seconds to run. The proportion you see should be somewhere near $\\frac{1}{3}$."
   ]
  },
  {
   "cell_type": "code",
   "execution_count": null,
   "id": "6aa2a4e3",
   "metadata": {},
   "outputs": [],
   "source": [
    "ruin_many(5, 15, 0.5)"
   ]
  },
  {
   "cell_type": "markdown",
   "id": "918acd44",
   "metadata": {},
   "source": [
    "Now run the following cell, which performs the same simulation but with $p = 0.6$. You should see a much higher proportion."
   ]
  },
  {
   "cell_type": "code",
   "execution_count": null,
   "id": "9ae90d46",
   "metadata": {
    "scrolled": false
   },
   "outputs": [],
   "source": [
    "ruin_many(5, 15, 0.6)"
   ]
  },
  {
   "cell_type": "markdown",
   "id": "6a91110c",
   "metadata": {},
   "source": [
    "### Question 2.3\n",
    "\n",
    "It turns out that there are mathematical formulas that describe the probability of reaching $n$ dollars (i.e. winning), given an initial balance $i$ and probability of winning a single round $p$. To derive them by hand, you need to know about Markov Chains, which you will learn about in upper-division probability courses.\n",
    "\n",
    "For an arbitrary $p$, this probability is\n",
    "\n",
    "$$P(\\text{win starting at $i$, when $p \\neq 0.5$}) = \\frac{\\left(\\frac{1-p}{p} \\right)^i - 1}{\\left(\\frac{1-p}{p} \\right)^n - 1}$$\n",
    "\n",
    "Note that if $p = 0.5$, this formula doesn't work, as both the numerator and denominator would be 0. In the case where $p = 0.5$, then\n",
    "\n",
    "$$P(\\text{win starting at $i$, when $p = 0.5$}) = \\frac{i}{n}$$\n",
    "\n",
    "Below, complete the implementation of the function `ruin_theoretical`, which takes in `i`, `n`, and `p` as described before and returns the theoretical probability of winning given those conditions.\n",
    "\n",
    "**Make sure to include a screenshot of your implementation in your PDF writeup.**"
   ]
  },
  {
   "cell_type": "code",
   "execution_count": null,
   "id": "a0e2ea2f",
   "metadata": {},
   "outputs": [],
   "source": [
    "def ruin_theoretical(i, n, p):\n",
    "    ..."
   ]
  },
  {
   "cell_type": "markdown",
   "id": "eddbc681",
   "metadata": {},
   "source": [
    "Run the following few cells to see the results of your work."
   ]
  },
  {
   "cell_type": "code",
   "execution_count": null,
   "id": "806b336c",
   "metadata": {},
   "outputs": [],
   "source": [
    "# This function compares the results of your simulation and the true theoretical probabilities of winning\n",
    "def compare_simulation_and_theoretical(i, n, p):\n",
    "    sim = ruin_many(i, n, p)\n",
    "    theory = ruin_theoretical(i, n, p)\n",
    "    print(f'initial balance = {i}, target balance = {n}, p = {p}')\n",
    "    print(f'simulated probability of winning: {round(sim, 4)}')\n",
    "    print(f'theoretical probability of winning: {round(theory, 4)}')"
   ]
  },
  {
   "cell_type": "code",
   "execution_count": null,
   "id": "9dd47d6e",
   "metadata": {},
   "outputs": [],
   "source": [
    "compare_simulation_and_theoretical(5, 15, 0.5)"
   ]
  },
  {
   "cell_type": "code",
   "execution_count": null,
   "id": "f8855153",
   "metadata": {},
   "outputs": [],
   "source": [
    "compare_simulation_and_theoretical(5, 15, 0.6)"
   ]
  },
  {
   "cell_type": "code",
   "execution_count": null,
   "id": "74e650b0",
   "metadata": {},
   "outputs": [],
   "source": [
    "compare_simulation_and_theoretical(10, 25, 0.5)"
   ]
  },
  {
   "cell_type": "markdown",
   "id": "50d98e38",
   "metadata": {},
   "source": [
    "If you did everything correctly, the simulated probabilities and theoretical probabilities should be very close to one another.\n",
    "\n",
    "Play around with the third example, `compare_simulation_and_theoretical(10, 25, 0.5)`. What happens if we change 0.5 to 0.4 or 0.3? Why? (No need to answer this anywhere, it's just something to think about.)"
   ]
  },
  {
   "cell_type": "markdown",
   "id": "2ce52ed5",
   "metadata": {},
   "source": [
    "### Fun Demo\n",
    "\n",
    "Only proceed to this part after you've completed 2.1-2.3.\n",
    "\n",
    "Below, we define a function that takes values for `i`, `n`, and `p`, and visualizes the \"path\" that the player's balance follows as it goes from `i` to either `n` or `0`."
   ]
  },
  {
   "cell_type": "code",
   "execution_count": null,
   "id": "e719f5a3",
   "metadata": {},
   "outputs": [],
   "source": [
    "def plot_ruin_path(i, n, p):\n",
    "    j = i\n",
    "    path = np.array([i])\n",
    "    while (j != n) and (j != 0):\n",
    "        j += np.random.choice([1, -1], p=[p, 1-p])\n",
    "        path = np.append(path, j)\n",
    "    \n",
    "    x = np.arange(1, len(path) + 1)\n",
    "    plt.plot(x, path)\n",
    "    plt.title(f\"Path of player's balance from {i} to {path[-1]}, p = {p}\")"
   ]
  },
  {
   "cell_type": "markdown",
   "id": "bac4fc6f",
   "metadata": {},
   "source": [
    "Run the following cell."
   ]
  },
  {
   "cell_type": "code",
   "execution_count": null,
   "id": "59304440",
   "metadata": {
    "scrolled": false
   },
   "outputs": [],
   "source": [
    "plot_ruin_path(10, 20, 0.5)"
   ]
  },
  {
   "cell_type": "markdown",
   "id": "c5a29af0",
   "metadata": {},
   "source": [
    "Now, run the cell above repeatedly. You'll notice that sometimes the player wins/loses in a few steps, like 30 or 40. But other times, it takes hundreds, or even thousands, of steps for them to win or lose.\n",
    "\n",
    "Try changing `p` to be `0.75` instead of `0.5` and run the cell repeatedly again. What do you notice? (Again, there's no need to answer this anywhere, it's just something to think about.)"
   ]
  },
  {
   "cell_type": "markdown",
   "id": "cf2c364c",
   "metadata": {},
   "source": [
    "## Question 3 (Optional)\n",
    "\n",
    "In this question, your job will be to modify the Problem of Points code from lecture to work for games that are not fair, and instead Player A has a probability $p$ of winning.\n",
    "\n",
    "### Question 3.1\n",
    "\n",
    "Below, we've copied the skeleton of `prob_a_wins` from lecture. Complete the implementation of `prob_a_wins` so that it returns the probability that Player A wins the game under the same conditions as before, but with the added caveat that Player A wins each round with probability $p$, not probability $\\frac{1}{2}$.\n",
    "\n",
    "**_Note:_** We cannot simply divide by $2^{a + b - 1}$ anymore, since not all outcomes are equally likely. Instead, to compute this probability, we'll need to use the fact that the probability that Player A wins exactly $k$ of the $n$ remaining rounds is\n",
    "\n",
    "$$P(\\text{Player A wins exactly $k$ of $n$ remaining rounds}) = {n \\choose k} p^{k} (1-p)^{n - k}$$\n",
    "\n",
    "In the case where $p = 0.5 = \\frac{1}{2}$, this is just $\\frac{n \\choose k}{2^{n}}$, which is the form we studied in lecture. \n",
    "\n",
    "As we did in lecture, you'll need to sum this probability for all values of $k$ from $a$ to $a + b - 1$.\n",
    "\n",
    "**Make sure to include a screenshot of your implementation in your PDF writeup.**"
   ]
  },
  {
   "cell_type": "code",
   "execution_count": null,
   "id": "2a49bdf6",
   "metadata": {},
   "outputs": [],
   "source": [
    "def prob_a_wins(a_left, b_left, p):\n",
    "    '''Returns the probability (according to Fermat and Pascal's method) that \n",
    "       Player A wins the game, given:\n",
    "       - the number of points Player A needs to win the game (a_left),\n",
    "       - the number of points Player B needs to win the game (b_left),\n",
    "       - the probability that Player A wins a single round (p)\n",
    "    '''\n",
    "    ..."
   ]
  },
  {
   "cell_type": "markdown",
   "id": "c0c08702",
   "metadata": {},
   "source": [
    "Once you've completed the implementation of `prob_a_wins`, run the cell below. It should show you 0.6875, which is the same probability we found in lecture (since we set $p = 0.5$)."
   ]
  },
  {
   "cell_type": "code",
   "execution_count": null,
   "id": "d6ca8f51",
   "metadata": {},
   "outputs": [],
   "source": [
    "prob_a_wins(2, 3, 0.5)"
   ]
  },
  {
   "cell_type": "markdown",
   "id": "bb6986b8",
   "metadata": {},
   "source": [
    "If we instead use a different $p$, we'll get different results:"
   ]
  },
  {
   "cell_type": "code",
   "execution_count": null,
   "id": "37214688",
   "metadata": {},
   "outputs": [],
   "source": [
    "prob_a_wins(2, 3, 0.8)"
   ]
  },
  {
   "cell_type": "code",
   "execution_count": null,
   "id": "577e6cb8",
   "metadata": {},
   "outputs": [],
   "source": [
    "prob_a_wins(2, 3, 0.2)"
   ]
  },
  {
   "cell_type": "markdown",
   "id": "1d967e4e",
   "metadata": {},
   "source": [
    "Below, we've implemented `stop_game` as we did in lecture. Again, it computes the probability that Player A wins given a target score, current scores for both players, and the probability that Player A wins any given round."
   ]
  },
  {
   "cell_type": "code",
   "execution_count": null,
   "id": "e5368d15",
   "metadata": {},
   "outputs": [],
   "source": [
    "def stop_game(target_score, a_score, b_score, p):\n",
    "    '''Returns the probability (according to Fermat and Pascal's method) that \n",
    "       Player A wins the game, given: \n",
    "       - a target score (target_score),\n",
    "       - the number of points that Player A currently has (a_score),\n",
    "       - the number of points that Player B currently has (b_score), and\n",
    "       - the probability that Player A wins a single round (p)\n",
    "    '''\n",
    "    a_left = target_score - a_score\n",
    "    b_left = target_score - b_score\n",
    "    return prob_a_wins(a_left, b_left, p)"
   ]
  },
  {
   "cell_type": "markdown",
   "id": "398bfb3f",
   "metadata": {},
   "source": [
    "What's the theoretical probability of Player A winning, if the game stops when Player A is up 8-7, the target score is 10, and Player A wins each round with $p = 0.8$?"
   ]
  },
  {
   "cell_type": "code",
   "execution_count": null,
   "id": "08ce36ac",
   "metadata": {},
   "outputs": [],
   "source": [
    "stop_game(10, 8, 7, 0.8)"
   ]
  },
  {
   "cell_type": "markdown",
   "id": "0c2137e3",
   "metadata": {},
   "source": [
    "### Question 3.2\n",
    "\n",
    "Similarly, complete the implementation of `simulate_one_game` so that it works the same way as it did in lecture but accounts for `p`, the probability that Player A wins a single round.\n",
    "\n",
    "**_Hint:_** You only need to change one small part of the code from lecture.\n",
    "\n",
    "**Make sure to include a screenshot of your implementation in your PDF writeup.**"
   ]
  },
  {
   "cell_type": "code",
   "execution_count": null,
   "id": "2e6f477c",
   "metadata": {},
   "outputs": [],
   "source": [
    "def simulate_one_game(target_score, a_score, b_score, p):\n",
    "    '''Simulates the remainder of a single game that has stopped, given:\n",
    "       - a target score (target_score),\n",
    "       - the number of points that Player A currently has (a_score),\n",
    "       - the number of points that Player B currently has (b_score), and\n",
    "       - the probability that Player A wins a single round (p)\n",
    "       \n",
    "       Returns True if Player A wins and False if Player B wins.\n",
    "    '''\n",
    "    ..."
   ]
  },
  {
   "cell_type": "markdown",
   "id": "c2644599",
   "metadata": {},
   "source": [
    "Once you've completed the implementation of `simulate_one_game`, run the cells below."
   ]
  },
  {
   "cell_type": "code",
   "execution_count": null,
   "id": "f1f9c4c9",
   "metadata": {},
   "outputs": [],
   "source": [
    "def simulate_many(target_score, a_score, b_score, p, reps=10000):\n",
    "    '''Repeatedly calls simulate_one_game on the same arguments\n",
    "       and returns the proportion of simulated games that were won by\n",
    "       Player A.\n",
    "    '''\n",
    "    wins = 0\n",
    "    \n",
    "    for i in np.arange(reps):\n",
    "        wins += simulate_one_game(target_score, a_score, b_score, p)\n",
    "        \n",
    "    return wins / reps"
   ]
  },
  {
   "cell_type": "markdown",
   "id": "100767ec",
   "metadata": {},
   "source": [
    "What's the **simulated** probability of Player A winning, if the game stops when Player A is up 8-7, the target score is 10, and Player A wins each round with $p = 0.8$?"
   ]
  },
  {
   "cell_type": "code",
   "execution_count": null,
   "id": "69743ad7",
   "metadata": {},
   "outputs": [],
   "source": [
    "simulate_many(10, 8, 7, 0.8)"
   ]
  },
  {
   "cell_type": "markdown",
   "id": "0be625e9",
   "metadata": {},
   "source": [
    "This looks pretty close to the theoretical probability we found using `stop_game(10, 8, 7, 0.8)`!"
   ]
  },
  {
   "cell_type": "code",
   "execution_count": null,
   "id": "705160af",
   "metadata": {},
   "outputs": [],
   "source": [
    "stop_game(10, 8, 7, 0.8)"
   ]
  },
  {
   "cell_type": "markdown",
   "id": "39a39fb2",
   "metadata": {},
   "source": [
    "Nice job."
   ]
  }
 ],
 "metadata": {
  "kernelspec": {
   "display_name": "Python 3 (ipykernel)",
   "language": "python",
   "name": "python3"
  },
  "language_info": {
   "codemirror_mode": {
    "name": "ipython",
    "version": 3
   },
   "file_extension": ".py",
   "mimetype": "text/x-python",
   "name": "python",
   "nbconvert_exporter": "python",
   "pygments_lexer": "ipython3",
   "version": "3.9.7"
  }
 },
 "nbformat": 4,
 "nbformat_minor": 5
}

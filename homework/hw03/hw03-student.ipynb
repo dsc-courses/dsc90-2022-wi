{
 "cells": [
  {
   "cell_type": "markdown",
   "id": "b95ece88",
   "metadata": {},
   "source": [
    "# Homework 3 Supplemental Notebook\n",
    "\n",
    "## History of Data Science, Winter 2022"
   ]
  },
  {
   "cell_type": "code",
   "execution_count": null,
   "id": "c3e9de8f",
   "metadata": {},
   "outputs": [],
   "source": [
    "import pandas as pd\n",
    "import numpy as np\n",
    "import matplotlib.pyplot as plt"
   ]
  },
  {
   "cell_type": "markdown",
   "id": "edd85a12",
   "metadata": {},
   "source": [
    "## Question 3"
   ]
  },
  {
   "cell_type": "markdown",
   "id": "d06a849b",
   "metadata": {},
   "source": [
    "In this question, we'll revisit the data Tycho Brahe recorded when trying to measure the right ascension of $\n",
    "\\alpha$ Arietis. The table from lecture is shown below.\n",
    "\n",
    "<a name='chart'></a>\n",
    "<img src='data/brahe.png' width=250>\n",
    "\n",
    "Recall, we verified that Brahe took the mean of each pair of observations. What's not clear is **how** he chose which observations to pair up (note that they're not paired in chronological order). The bottom 12 values in the right column (i.e. the \"paired means\") seem to be much less spread out than the values in the middle column – but maybe Brahe paired values in a way that would keep the spread of the paired means low."
   ]
  },
  {
   "cell_type": "markdown",
   "id": "3685006e",
   "metadata": {},
   "source": [
    "### Question 3.1\n",
    "\n",
    "First, it's important to establish that the fact that **no matter how he chose to pair the 24 values together, the mean of the 12 paired means would be equal to the original mean of the 24 observations**. That is, the mean of the 24 values in the middle column is equal to the mean of the bottom 12 values in the right column, and that would be true no matter what the pairings were.\n",
    "\n",
    "<b style='color:red'>Your Job:</b> To illustrate this fact on a more tangible scale, let's try an example. Consider the numbers 1, 1, 4, 5, 8, 9.\n",
    "\n",
    "(i) Compute their mean. Show your work.\n",
    "\n",
    "(ii) Compute the pairwise means of (1, 1), (4, 8), and (5, 9). Now take the mean of these three pairwise means. Show your work.\n",
    "\n",
    "(iii) Compute the pairwise means of (1, 9), (4, 5), and (1, 8). Now take the mean of these three pairwise means. Show your work. Do you get the same result as in (i) and (ii)?\n",
    "\n",
    "(iv) (Optional) Prove that no matter how many numbers you have, no matter how you pair them up, if you take the mean of the pairs you will get the mean of the original numbers. It is a short proof."
   ]
  },
  {
   "cell_type": "markdown",
   "id": "8b35df22",
   "metadata": {},
   "source": [
    "### Question 3.2\n",
    "\n",
    "Run the cell below to load in a DataFrame repesentation of the 24 observations in the middle column from the picture above, i.e. just the observations that Brahe paired off."
   ]
  },
  {
   "cell_type": "code",
   "execution_count": null,
   "id": "68c38e3f",
   "metadata": {
    "scrolled": false
   },
   "outputs": [],
   "source": [
    "brahe = pd.read_csv('data/tycho-brahe-pairs.csv')\n",
    "brahe"
   ]
  },
  {
   "cell_type": "markdown",
   "id": "4f3441b9",
   "metadata": {},
   "source": [
    "As we mentioned at the start of the question, it appears to be the case that Brahe paired the data in a way that kept the spread of the paired means low, even though this would have no impact on the mean of the paired means.\n",
    "\n",
    "Let's try to compute the **standard deviation** of Brahe's paired means. First, we'll start by copying the two functions we wrote during lecture, along with a third helper function."
   ]
  },
  {
   "cell_type": "code",
   "execution_count": null,
   "id": "bd85567d",
   "metadata": {},
   "outputs": [],
   "source": [
    "def time_minutes(deg, arcmin, arcsec):\n",
    "    total_deg = deg + arcmin / 60 + arcsec / (60 ** 2)\n",
    "    \n",
    "    # Each degree is 4 minutes\n",
    "    return total_deg * 4"
   ]
  },
  {
   "cell_type": "code",
   "execution_count": null,
   "id": "9104adaa",
   "metadata": {},
   "outputs": [],
   "source": [
    "def arc_degree(time_minutes):\n",
    "    # 1 degree = 4 minutes, let's think in terms of degrees\n",
    "    total_deg = time_minutes / 4\n",
    "    \n",
    "    # First, round DOWN\n",
    "    deg = np.floor(total_deg)\n",
    "    \n",
    "    # Compute the part left over – we need to describe this in arcminutes and arcseconds\n",
    "    leftover = total_deg - deg\n",
    "    \n",
    "    # Each arcminute is 1/60th of a degree, so figure out the number of times 1/60 goes into the leftover\n",
    "    arcmin = leftover // (1 / 60)\n",
    "    \n",
    "    # Compute the part left over - we need to describe this in arcseconds\n",
    "    leftover = leftover - arcmin * (1 / 60)\n",
    "    \n",
    "    # Each arcsecond is equal to 1/3600th of a degree, so figure out the number of times 1/3600 goes into the leftover\n",
    "    arcsec = leftover // (1 / 3600)\n",
    "    \n",
    "    return (deg, arcmin, arcsec)"
   ]
  },
  {
   "cell_type": "code",
   "execution_count": null,
   "id": "c0a8e964",
   "metadata": {},
   "outputs": [],
   "source": [
    "def string_to_tuple(s):\n",
    "    '''Takes in a string formatted as \"a, b, c\"\n",
    "       and returns a tuple (a, b, c)\n",
    "    '''\n",
    "    post_split = s.split(', ')\n",
    "    return tuple([int(i) for i in post_split])\n",
    "\n",
    "# Example behavior\n",
    "string_to_tuple('26, 4, 16')"
   ]
  },
  {
   "cell_type": "code",
   "execution_count": null,
   "id": "7011f3a6",
   "metadata": {},
   "outputs": [],
   "source": [
    "(time_minutes(26, 4, 16) + time_minutes(25, 56, 23)) / 2"
   ]
  },
  {
   "cell_type": "markdown",
   "id": "8026a296",
   "metadata": {},
   "source": [
    "<b style='color:red'>Your Job:</b> Complete the implementation of the function `paired_means`, which takes in a DataFrame with a `'Reading'` column and returns an array containing the mean of the first two readings, the mean of the second two readings, the mean of the third two readings, and so on (all measured in regular minutes).\n",
    "\n",
    "For instance, `paired_means(brahe)` should return an array with 12 numbers in it, the first of which is `104.02166666666668`, the mean of 26º 4' 16\" and 25º 56' 23\" in minutes.\n",
    "\n",
    "In your PDF writeup, provide a screenshot of the code you write."
   ]
  },
  {
   "cell_type": "code",
   "execution_count": null,
   "id": "66510cf9",
   "metadata": {},
   "outputs": [],
   "source": [
    "def paired_means(df):\n",
    "    output_means = ...\n",
    "    # For each pair\n",
    "    for i in ...:\n",
    "        # Get the readings of both dates in the pair\n",
    "        reading1 = string_to_tuple(df.get('Reading').iloc[i])\n",
    "        reading2 = string_to_tuple(df.get('Reading').iloc[i+1])\n",
    "        \n",
    "        # Convert both readings to regular minutes\n",
    "        reading1_min = ...\n",
    "        reading2_min = ...\n",
    "        \n",
    "        # Compute their mean\n",
    "        mean = ...\n",
    "        \n",
    "        # Store the mean (in regular minutes) in the output array\n",
    "        output_means = ...\n",
    "        \n",
    "    return output_means"
   ]
  },
  {
   "cell_type": "markdown",
   "id": "788a9ab8",
   "metadata": {},
   "source": [
    "After finishing your function, run the two cells below."
   ]
  },
  {
   "cell_type": "code",
   "execution_count": null,
   "id": "d731885f",
   "metadata": {},
   "outputs": [],
   "source": [
    "original_paired_means = paired_means(brahe)\n",
    "original_paired_means"
   ]
  },
  {
   "cell_type": "code",
   "execution_count": null,
   "id": "2a0eb07d",
   "metadata": {},
   "outputs": [],
   "source": [
    "observed_std = np.std(original_paired_means)\n",
    "observed_std"
   ]
  },
  {
   "cell_type": "markdown",
   "id": "76101549",
   "metadata": {},
   "source": [
    "If you implemented `paired_means` correctly, you'll see that `observed_std` is `0.012332120255100665`. This is the **standard deviation** of the 12 paired means that Brahe computed (i.e. the standard deviation of the bottom 12 numbers in the right column of [this image](#chart)).\n",
    "\n",
    "Below, we define a function that takes in a DataFrame, calls your `paired_means` function on the DataFrame to get an array of paired means, and returns the standard deviation of those paired means."
   ]
  },
  {
   "cell_type": "code",
   "execution_count": null,
   "id": "1ae3b883",
   "metadata": {},
   "outputs": [],
   "source": [
    "def spread_paired_means(df):\n",
    "    return np.std(paired_means(df))"
   ]
  },
  {
   "cell_type": "markdown",
   "id": "511d6590",
   "metadata": {},
   "source": [
    "### Question 3.3\n",
    "\n",
    "Let's run a simulation to test the following hypotheses:\n",
    "\n",
    "- **Null Hypothesis:** Tycho Brahe paired the 24 observations into 12 groups at random, and any deviations from this are due to chance alone.\n",
    "\n",
    "- **Alternative Hypothesis:** Tycho Brahe paired the 24 observations into 12 groups in a way that kept the spread of the paired means small.\n",
    "\n",
    "To do this, we'll repeatedly\n",
    "- shuffle the `brahe` DataFrame,\n",
    "- call `spread_paired_means` on the shuffled DataFrame, and\n",
    "- keep track of the resulting standard deviations.\n",
    "\n",
    "By shuffling the `brahe` DataFrame and calling `spread_paired_means`, we are **randomly** grouping the 24 points into 12 pairs, computing their pairwise means (giving us 12 values), and computing the standard deviation of the pairwise means (i.e. a **test statistic**). By following this process, we will end up with an array of many values, each corresponding to the standard deviation of one set of 12 paired means. We can then see where `observed_std` lies in this distribution.\n",
    "\n",
    "<b style='color:red'>Your Job:</b> Complete the code below to conduct the simulation. By the end of this cell, `stds` should be an array of **10000** standard deviations, as described above. In your PDF writeup, include a screenshot of both the code you write and the plot that appears at the bottom of your notebook.\n",
    "\n",
    "**_Hint:_** This is a standard DSC 10 question; refer to the textbook if it feels unfamiliar. To shuffle a DataFrame `df`, use `df.sample(n)`, where `n` is the length of the DataFrame."
   ]
  },
  {
   "cell_type": "code",
   "execution_count": null,
   "id": "14755483",
   "metadata": {},
   "outputs": [],
   "source": [
    "stds = ...\n",
    "stds"
   ]
  },
  {
   "cell_type": "markdown",
   "id": "e85875cd",
   "metadata": {},
   "source": [
    "After you've completed the cell above, run the following cell to see a histogram of your simulated standard deviations, along with a red line at `observed_std`, the standard deviation of the means of Brahe's choice of pairs. Make sure to include this in your PDF writeup."
   ]
  },
  {
   "cell_type": "code",
   "execution_count": null,
   "id": "5878bf54",
   "metadata": {},
   "outputs": [],
   "source": [
    "plt.figure(figsize=(10, 5))\n",
    "plt.hist(stds, density=True, ec='w', bins=np.arange(0, 0.35, 0.01))\n",
    "plt.axvline(x=observed_std, color='red');"
   ]
  },
  {
   "cell_type": "markdown",
   "id": "342f9f53",
   "metadata": {},
   "source": [
    "If you completed all steps correctly, you'll notice that the null hypothesis – that Brahe selected his pairs at random – does not seem consistent with our simulated standard deviations, which were computed by selecting pairs at random. \n",
    "\n",
    "It seems like there must have been some reason he selected the pairs he did!"
   ]
  }
 ],
 "metadata": {
  "kernelspec": {
   "display_name": "Python 3 (ipykernel)",
   "language": "python",
   "name": "python3"
  },
  "language_info": {
   "codemirror_mode": {
    "name": "ipython",
    "version": 3
   },
   "file_extension": ".py",
   "mimetype": "text/x-python",
   "name": "python",
   "nbconvert_exporter": "python",
   "pygments_lexer": "ipython3",
   "version": "3.9.7"
  }
 },
 "nbformat": 4,
 "nbformat_minor": 5
}
